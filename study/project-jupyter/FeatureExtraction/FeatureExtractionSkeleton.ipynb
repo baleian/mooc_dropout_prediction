{
 "cells": [
  {
   "cell_type": "code",
   "execution_count": 2,
   "metadata": {},
   "outputs": [],
   "source": [
    "from os.path import abspath\n",
    "\n",
    "from pyspark.sql import SparkSession\n",
    "from pyspark.sql import Row\n",
    "from pyspark.sql.types import *\n",
    "from pyspark.sql.functions import *\n",
    "from pyspark.ml.feature import VectorAssembler\n",
    "\n",
    "import datetime\n",
    "import os\n",
    "from time import gmtime, strftime\n",
    "\n",
    "pyspark_submit_args = \"--driver-memory 4g \"\n",
    "pyspark_submit_args += \"--executor-memory 4g \"\n",
    "pyspark_submit_args += \"pyspark-shell\"\n",
    "os.environ['PYSPARK_SUBMIT_ARGS'] = pyspark_submit_args\n",
    "\n",
    "warehouse_location = abspath('spark-warehouse')\n",
    "spark = SparkSession.builder.master(\"local[*]\").appName(\"SparkSQL\") \\\n",
    "    .config(\"spark.sql.warehouse.dir\", warehouse_location) \\\n",
    "    .getOrCreate()\n",
    "sc = spark.sparkContext"
   ]
  },
  {
   "cell_type": "code",
   "execution_count": 3,
   "metadata": {
    "scrolled": true
   },
   "outputs": [],
   "source": [
    "log_df = (\n",
    "    spark.read\n",
    "        .option(\"header\", \"true\")\n",
    "        .option(\"delimiter\", \",\")\n",
    "        .csv(\"Data/log.csv\")\n",
    "        .withColumn(\"enrollment_id\", col(\"enrollment_id\").cast(\"int\"))\n",
    "        .withColumn(\"date\", to_timestamp(substring(col(\"time\"), 0, 10), \"yyyy-MM-dd\"))\n",
    "        .withColumn(\"time\", to_timestamp(substring(col(\"time\"), 12, 8), \"HH:mm:ss\"))\n",
    "        .withColumnRenamed(\"object\", \"object_id\")\n",
    ")"
   ]
  },
  {
   "cell_type": "code",
   "execution_count": 4,
   "metadata": {},
   "outputs": [],
   "source": [
    "truth_df = (\n",
    "    spark.read\n",
    "        .option(\"header\", \"true\")\n",
    "        .option(\"delimiter\", \",\")\n",
    "        .schema(StructType([\n",
    "            StructField(\"eid\", IntegerType()),\n",
    "            StructField(\"result\", IntegerType()),\n",
    "        ]))\n",
    "        .csv(\"Data/truth_train.csv\")\n",
    "        .withColumn(\"result\", col(\"result\").cast(\"boolean\"))\n",
    "        .toDF(\"enrollment_id\", \"dropout\")\n",
    ")"
   ]
  },
  {
   "cell_type": "code",
   "execution_count": 5,
   "metadata": {},
   "outputs": [],
   "source": [
    "date_df = (\n",
    "    spark.read\n",
    "        .option(\"header\", \"true\")\n",
    "        .option(\"delimiter\", \",\")\n",
    "        .csv(\"Data/date.csv\")\n",
    "        .withColumn(\"from\", to_timestamp(col(\"from\"), \"yyyy-MM-dd\"))\n",
    "        .withColumn(\"to\", to_timestamp(col(\"to\"), \"yyyy-MM-dd\"))\n",
    "        .withColumnRenamed(\"from\", \"fromdate\")\n",
    "        .withColumnRenamed(\"to\", \"todate\")\n",
    ")"
   ]
  },
  {
   "cell_type": "code",
   "execution_count": 53,
   "metadata": {},
   "outputs": [
    {
     "name": "stdout",
     "output_type": "stream",
     "text": [
      "+-----------+-----------+\n",
      "|max(period)|min(period)|\n",
      "+-----------+-----------+\n",
      "|         29|         29|\n",
      "+-----------+-----------+\n",
      "\n"
     ]
    }
   ],
   "source": []
  },
  {
   "cell_type": "code",
   "execution_count": 6,
   "metadata": {},
   "outputs": [],
   "source": [
    "enrollment_df = (\n",
    "    spark.read\n",
    "        .option(\"header\", \"true\")\n",
    "        .option(\"delimiter\", \",\")\n",
    "        .csv(\"Data/enrollment.csv\")\n",
    "        .withColumn(\"enrollment_id\", col(\"enrollment_id\").cast(\"int\"))\n",
    ")"
   ]
  },
  {
   "cell_type": "code",
   "execution_count": 47,
   "metadata": {},
   "outputs": [
    {
     "name": "stdout",
     "output_type": "stream",
     "text": [
      "+--------------------+--------------------+-----------+--------------------+-------------------+\n",
      "|           course_id|           module_id|   category|            children|              start|\n",
      "+--------------------+--------------------+-----------+--------------------+-------------------+\n",
      "|1pvLqtotBsKv7QSOs...|HE4yR5LZM1Wq9Lyz5...|      about|                null|               null|\n",
      "|1pvLqtotBsKv7QSOs...|96Guczn93ROOfoIch...|   vertical|P6VxrSKNtK4nXYxhQ...|               null|\n",
      "|1pvLqtotBsKv7QSOs...|pqdF2tHTCvAs8kkPp...|      about|                null|               null|\n",
      "|1pvLqtotBsKv7QSOs...|RQMvncYmORdDO0dFS...|      about|                null|               null|\n",
      "|1pvLqtotBsKv7QSOs...|Q5onrB70aCDgNxVLL...|    chapter|WEqmLJxWJOF48GDUy...|2013-12-13T04:00:00|\n",
      "|1pvLqtotBsKv7QSOs...|1Wriu8gSdyrWpIjiU...|    chapter|x5e99zSxOsvLn4m7M...|2013-12-27T06:00:00|\n",
      "|1pvLqtotBsKv7QSOs...|PlPPm19PUDYQgE8Vp...|    chapter|LkIQNkyK0m7rBrJvx...|2013-12-20T04:00:00|\n",
      "|1pvLqtotBsKv7QSOs...|xnE1ULAWo6VrSqxhu...|    chapter|FIAv9yrJ3HYtCf1Se...|2014-01-10T05:30:00|\n",
      "|1pvLqtotBsKv7QSOs...|HkM9hcE73LlZvnIgW...|    chapter|5poVNApw3oKu154B3...|2014-01-10T12:00:00|\n",
      "|1pvLqtotBsKv7QSOs...|YNsleg0HCsuyiNttQ...|    chapter|OHXcFpKSfb6piquch...|2013-12-06T04:00:00|\n",
      "|1pvLqtotBsKv7QSOs...|DwUDDfwH7PG0uxLpI...|    chapter|RpVjMAgyUTdjiMczQ...|2013-12-03T12:00:00|\n",
      "|1pvLqtotBsKv7QSOs...|7Ki50IcH6hJeHqExX...|    chapter|E39K1nRt6GGMF30fz...|2014-01-24T10:00:00|\n",
      "|1pvLqtotBsKv7QSOs...|kUyzHW8mHYsrqcZdt...|    chapter|E1hnDQFKl5tmn7RUK...|2014-01-03T14:00:00|\n",
      "|1pvLqtotBsKv7QSOs...|PhBiQlIDVDQTPqdTh...|    chapter|tM88zA4yv4A2lcFPH...|2014-01-17T12:00:00|\n",
      "|1pvLqtotBsKv7QSOs...|NTbhqmdUzkFU5KTJO...|    chapter|Y2ijTJEtNdlj2pg7x...|2013-11-26T01:00:00|\n",
      "|1pvLqtotBsKv7QSOs...|cx0AiifjDudMUUhMi...|     course|NTbhqmdUzkFU5KTJO...|2013-11-26T01:00:00|\n",
      "|1pvLqtotBsKv7QSOs...|H7ECdBxT2fhbOJUL6...|course_info|                null|               null|\n",
      "|1pvLqtotBsKv7QSOs...|pQHMOOuo0kivsgOBt...|course_info|                null|               null|\n",
      "|1pvLqtotBsKv7QSOs...|am0UlsTm1WETVn0cp...| discussion|                null|               null|\n",
      "|1pvLqtotBsKv7QSOs...|htEkxjPWoPRWq1Fot...| discussion|                null|               null|\n",
      "|1pvLqtotBsKv7QSOs...|FoV651gqLONvcVkvc...| discussion|                null|               null|\n",
      "|1pvLqtotBsKv7QSOs...|FsswiNaczlYI6Wo5A...| discussion|                null|               null|\n",
      "|1pvLqtotBsKv7QSOs...|vCQIRPCUiodQKDraA...| discussion|                null|               null|\n",
      "|1pvLqtotBsKv7QSOs...|y7ibUtzcal3EltYoy...| discussion|                null|               null|\n",
      "|1pvLqtotBsKv7QSOs...|bmplPe7mijjfAnriE...| discussion|                null|               null|\n",
      "|1pvLqtotBsKv7QSOs...|AKXcSHqhWNopUmHR3...| discussion|                null|               null|\n",
      "|1pvLqtotBsKv7QSOs...|AVUHVZ0Deobn8x3Ra...| discussion|                null|               null|\n",
      "|1pvLqtotBsKv7QSOs...|m1DpeS1945qmtxjcn...| discussion|                null|               null|\n",
      "|1pvLqtotBsKv7QSOs...|p9n7G8Tvvh1zVw9cN...| discussion|                null|               null|\n",
      "|1pvLqtotBsKv7QSOs...|IeRMvTV4J2cmWxQqs...| discussion|                null|               null|\n",
      "|1pvLqtotBsKv7QSOs...|qaq0OOtKLhTgnpwUi...| discussion|                null|               null|\n",
      "|1pvLqtotBsKv7QSOs...|qvaDY32hGYTaEere3...| discussion|                null|               null|\n",
      "|1pvLqtotBsKv7QSOs...|SUOENzsXq5nwbCnov...| discussion|                null|               null|\n",
      "|1pvLqtotBsKv7QSOs...|4uOSYpAImQAxpg9cn...| discussion|                null|               null|\n",
      "|1pvLqtotBsKv7QSOs...|D7bjGFM8JvjFQwAzY...| discussion|                null|               null|\n",
      "|1pvLqtotBsKv7QSOs...|Mrbu9J7IIn6SyHW0t...|    problem|                null|               null|\n",
      "|1pvLqtotBsKv7QSOs...|cWmD2KLK1vivTxrHo...|    problem|                null|               null|\n",
      "|1pvLqtotBsKv7QSOs...|p77ks40irdyhTPDNu...|    problem|                null|               null|\n",
      "|1pvLqtotBsKv7QSOs...|kxwOw5gZIMB6EIw2Z...|    problem|                null|               null|\n",
      "|1pvLqtotBsKv7QSOs...|knvKi6YYWNtILitlU...|    problem|                null|               null|\n",
      "|1pvLqtotBsKv7QSOs...|notTm1nr7CGtxyk7M...|    problem|                null|               null|\n",
      "|1pvLqtotBsKv7QSOs...|tsDqXXKHXuZyhbjDJ...|    problem|                null|               null|\n",
      "|1pvLqtotBsKv7QSOs...|jy0oFD5EwTZG7dV4I...|    problem|                null|               null|\n",
      "|1pvLqtotBsKv7QSOs...|MSChuT6lJTtJm0cXi...|    problem|                null|               null|\n",
      "|1pvLqtotBsKv7QSOs...|1gKlp2DxKmruLHTmG...|    problem|                null|               null|\n",
      "|1pvLqtotBsKv7QSOs...|O33wAuCDXC430zWI4...|    problem|                null|               null|\n",
      "|1pvLqtotBsKv7QSOs...|giJB5ITCEF9Ae0ygE...|    problem|                null|               null|\n",
      "|1pvLqtotBsKv7QSOs...|1T3uf0rqC6ZURGwwI...|    problem|                null|               null|\n",
      "|1pvLqtotBsKv7QSOs...|jirW2qyCkgE4CZTTk...|    problem|                null|               null|\n",
      "|1pvLqtotBsKv7QSOs...|iRmnH1WV24ucXiy0C...|    problem|                null|               null|\n",
      "|1pvLqtotBsKv7QSOs...|HPedD0bGtyrA6bYw5...|    problem|                null|               null|\n",
      "|1pvLqtotBsKv7QSOs...|EGgSeORyEAEMn3zgR...|    problem|                null|               null|\n",
      "|1pvLqtotBsKv7QSOs...|ODfZPLdE4XglBRI0y...|    problem|                null|               null|\n",
      "|1pvLqtotBsKv7QSOs...|WTFnuVFanetdEWnBe...|    problem|                null|               null|\n",
      "|1pvLqtotBsKv7QSOs...|e7u2yboQTFq6PuUaB...|    problem|                null|               null|\n",
      "|1pvLqtotBsKv7QSOs...|C9LJoOsH9WN7a6hbx...|    problem|                null|               null|\n",
      "|1pvLqtotBsKv7QSOs...|Upc7UsC8dFoEcY5g3...|    problem|                null|               null|\n",
      "|1pvLqtotBsKv7QSOs...|wIaAw3xWcnlg4djbQ...|    problem|                null|               null|\n",
      "|1pvLqtotBsKv7QSOs...|aEjzon6gBHKt7w7l8...|    problem|                null|               null|\n",
      "|1pvLqtotBsKv7QSOs...|qxGDaFktDYkGv1gxh...|    problem|                null|               null|\n",
      "|1pvLqtotBsKv7QSOs...|dISIdSwq9HWAboMYP...|    problem|                null|               null|\n",
      "|1pvLqtotBsKv7QSOs...|dawNijVixnVJqNB3u...|    problem|                null|               null|\n",
      "|1pvLqtotBsKv7QSOs...|9OOvkP93Nk94idjW8...|    problem|                null|               null|\n",
      "|1pvLqtotBsKv7QSOs...|ucFvq73YsN3stOhjJ...|    problem|                null|               null|\n",
      "|1pvLqtotBsKv7QSOs...|dDBMK7tce9fzKMiIC...|    problem|                null|               null|\n",
      "|1pvLqtotBsKv7QSOs...|OC3qfOQp2q1W8MwKH...|    problem|                null|               null|\n",
      "|1pvLqtotBsKv7QSOs...|4UpKbCor6ohmIQvCU...|    problem|                null|               null|\n",
      "|1pvLqtotBsKv7QSOs...|nRVPMGCdJaPqltGLT...|    problem|                null|               null|\n",
      "|1pvLqtotBsKv7QSOs...|mtJf2d2w6kAjCGiKu...| sequential|6mbRRnL9BfaX50ija...|2014-01-03T14:00:00|\n",
      "|1pvLqtotBsKv7QSOs...|lFnjhDbg2A6sTBmGu...| sequential|Lg3k5xQvEFRTO0fIO...|               null|\n",
      "|1pvLqtotBsKv7QSOs...|LkIQNkyK0m7rBrJvx...| sequential|ve6PONWdfuDdAJLSS...|2013-12-20T04:00:00|\n",
      "|1pvLqtotBsKv7QSOs...|5poVNApw3oKu154B3...| sequential|F70ahd4d6HBKvfB6C...|               null|\n",
      "|1pvLqtotBsKv7QSOs...|E1hnDQFKl5tmn7RUK...| sequential|rPD8x5IrbDYmOl1CT...|               null|\n",
      "|1pvLqtotBsKv7QSOs...|dxv9OhGwwybVxOFYS...| sequential|gf7KgR8Kywv2rgJoQ...|2013-12-13T04:00:00|\n",
      "|1pvLqtotBsKv7QSOs...|AayhaA87sPeo3yiZa...| sequential|mtDsl8uvikgJ4Fend...|2013-11-26T01:00:00|\n",
      "|1pvLqtotBsKv7QSOs...|JT1ujcjzoZP8Z7o39...| sequential|XFDQGzV2UFYj3MhXs...|               null|\n",
      "|1pvLqtotBsKv7QSOs...|E39K1nRt6GGMF30fz...| sequential|Qd5e0JylPKao8Pngg...|               null|\n",
      "|1pvLqtotBsKv7QSOs...|WEqmLJxWJOF48GDUy...| sequential|QsjU2nfLr0xArV49i...|2013-12-13T01:00:00|\n",
      "|1pvLqtotBsKv7QSOs...|RpVjMAgyUTdjiMczQ...| sequential|0x4YSC9xLjyZkYUfA...|2013-12-03T12:00:00|\n",
      "|1pvLqtotBsKv7QSOs...|bVXOb18vn9RsQL4w8...| sequential|6wCr41owqtSwPBD1k...|               null|\n",
      "|1pvLqtotBsKv7QSOs...|FIAv9yrJ3HYtCf1Se...| sequential|7fHMew3RaRXXNGqiX...|               null|\n",
      "|1pvLqtotBsKv7QSOs...|OHXcFpKSfb6piquch...| sequential|ju8Yno83U01ZGNTGv...|2013-12-06T04:00:00|\n",
      "|1pvLqtotBsKv7QSOs...|iKfy5TOR8ZbfdrnEZ...| sequential|zPrm0gPNyoGtE6H0H...|2013-12-13T01:00:00|\n",
      "|1pvLqtotBsKv7QSOs...|xGMRrExFrfd6qtGw7...| sequential|QD5dMuLCo6SMw6LWd...|               null|\n",
      "|1pvLqtotBsKv7QSOs...|PD81SvrkuOU4lFD6w...| sequential|oFb97ILR72HhzFtex...|               null|\n",
      "|1pvLqtotBsKv7QSOs...|Y2ijTJEtNdlj2pg7x...| sequential|FRfyoC1FeZJpjkTsI...|2013-11-26T01:00:00|\n",
      "|1pvLqtotBsKv7QSOs...|HvoEgAHjVdRTVIJlb...| sequential|mbR9B8SEgM9QdcjH1...|               null|\n",
      "|1pvLqtotBsKv7QSOs...|R5PfXX1jyRajEyZVF...| sequential|IX4Lj36lAPed3vj3C...|               null|\n",
      "|1pvLqtotBsKv7QSOs...|ayzSrmIfJGPFGfl1N...| sequential|PXzH23jRjOaxZUhkd...|               null|\n",
      "|1pvLqtotBsKv7QSOs...|70HviTKoT9FWSuNwH...| sequential|p6ZsPONiM3CLI3Nfs...|               null|\n",
      "|1pvLqtotBsKv7QSOs...|9PHp7J9wwdMO1omzV...| sequential|erfTGFPHAMFJSSg4l...|               null|\n",
      "|1pvLqtotBsKv7QSOs...|tM88zA4yv4A2lcFPH...| sequential|7Shx4E2g7EBin7kqU...|               null|\n",
      "|1pvLqtotBsKv7QSOs...|Oj5brOI5XiKLchWIn...| sequential|Y8lhMCOvFnvmOWl7c...|               null|\n",
      "|1pvLqtotBsKv7QSOs...|jzDZIFu3HrDLUvO97...| sequential|ZDyvos5QTsc8JiGGX...|               null|\n",
      "|1pvLqtotBsKv7QSOs...|x5e99zSxOsvLn4m7M...| sequential|h837dnUTq0bFdB8my...|               null|\n",
      "|1pvLqtotBsKv7QSOs...|Z883mu5FTxixnDIsk...| sequential|WyOea36zCAza7V9Rj...|               null|\n",
      "|1pvLqtotBsKv7QSOs...|3J4e5x1QeSABJZYbb...| static_tab|                null|               null|\n",
      "|1pvLqtotBsKv7QSOs...|kV61JWqq6BOLaK0FH...| static_tab|                null|               null|\n",
      "|1pvLqtotBsKv7QSOs...|7zxYtIPz9g6QaCc0d...|   vertical|veud5KnmSeCROqFR6...|               null|\n",
      "|1pvLqtotBsKv7QSOs...|iDYbEz42V7SzLcgzg...|   vertical|AhmtXtOIsm3xPls9K...|               null|\n",
      "+--------------------+--------------------+-----------+--------------------+-------------------+\n",
      "only showing top 100 rows\n",
      "\n"
     ]
    }
   ],
   "source": [
    "(\n",
    "    spark.read\n",
    "        .option(\"header\", \"true\")\n",
    "        .option(\"delimiter\", \",\")\n",
    "        .csv(\"Data/object.csv\")\n",
    "#         .groupBy(\"course_id\").count()\n",
    "        .orderBy(\"course_id\")\n",
    "        .show(100)\n",
    ")"
   ]
  },
  {
   "cell_type": "code",
   "execution_count": 8,
   "metadata": {},
   "outputs": [],
   "source": [
    "def agg_count_by_cols(input_col, output_cols):\n",
    "    return [\n",
    "        sum(when(col(input_col) == output_col, col(\"count\")).otherwise(lit(0))).alias(\"c_\" + output_col) \n",
    "        for output_col in output_cols\n",
    "    ]"
   ]
  },
  {
   "cell_type": "code",
   "execution_count": 39,
   "metadata": {},
   "outputs": [
    {
     "name": "stdout",
     "output_type": "stream",
     "text": [
      "+-------------+--------+------------+----------+------------+---------+-------+------+\n",
      "|enrollment_id|c_access|c_discussion|c_navigate|c_page_close|c_problem|c_video|c_wiki|\n",
      "+-------------+--------+------------+----------+------------+---------+-------+------+\n",
      "|        35071|     176|           2|        20|          59|        0|     58|     0|\n",
      "|        87120|      12|           0|         5|           6|        0|      3|     0|\n",
      "|       126365|      80|          16|        14|          39|       32|     34|     0|\n",
      "|       128367|       2|           0|         2|           1|        0|      1|     0|\n",
      "|       140266|      16|           0|         5|          10|        2|      5|     0|\n",
      "+-------------+--------+------------+----------+------------+---------+-------+------+\n",
      "only showing top 5 rows\n",
      "\n"
     ]
    }
   ],
   "source": [
    "event_cols = [\"access\", \"discussion\", \"navigate\", \"page_close\", \"problem\", \"video\", \"wiki\"]  \n",
    "result1 = (\n",
    "    log_df\n",
    "        .groupBy(\"enrollment_id\", \"event\").count()\n",
    "        .groupBy(\"enrollment_id\")\n",
    "        .agg(*agg_count_by_cols(\"event\", event_cols))\n",
    ")\n",
    "result1.show(5)"
   ]
  },
  {
   "cell_type": "code",
   "execution_count": 40,
   "metadata": {},
   "outputs": [
    {
     "name": "stdout",
     "output_type": "stream",
     "text": [
      "+-------------+---------+--------+\n",
      "|enrollment_id|c_browser|c_server|\n",
      "+-------------+---------+--------+\n",
      "|        20683|       29|      34|\n",
      "|        23271|        9|       8|\n",
      "|        29228|       61|      78|\n",
      "|        29744|       67|     125|\n",
      "|        33717|        6|      18|\n",
      "+-------------+---------+--------+\n",
      "only showing top 5 rows\n",
      "\n"
     ]
    }
   ],
   "source": [
    "source_cols = [\"browser\", \"server\"]   \n",
    "result2 = (\n",
    "    log_df\n",
    "        .groupBy(\"enrollment_id\", \"source\").count()\n",
    "        .groupBy(\"enrollment_id\")\n",
    "        .agg(*agg_count_by_cols(\"source\", source_cols))\n",
    ")\n",
    "result2.show(5)"
   ]
  },
  {
   "cell_type": "code",
   "execution_count": 11,
   "metadata": {},
   "outputs": [
    {
     "name": "stdout",
     "output_type": "stream",
     "text": [
      "+--------------------+--------------------+\n",
      "|           course_id|count_eid_per_course|\n",
      "+--------------------+--------------------+\n",
      "|1pvLqtotBsKv7QSOs...|                2392|\n",
      "|3VkHkmOtom3jM2wCu...|                2008|\n",
      "|3cnZpv6ReApmCaZya...|                2207|\n",
      "|5Gyp41oLVo7Gg7vF4...|                2992|\n",
      "|5X6FeZozNMgE2VRi3...|                 898|\n",
      "+--------------------+--------------------+\n",
      "only showing top 5 rows\n",
      "\n"
     ]
    }
   ],
   "source": [
    "result3 = (\n",
    "    enrollment_df\n",
    "        .groupBy(\"course_id\")\n",
    "        .agg(count(\"enrollment_id\").alias(\"count_eid_per_course\"))\n",
    "        .orderBy(\"course_id\")\n",
    ")\n",
    "result3.show(5)"
   ]
  },
  {
   "cell_type": "code",
   "execution_count": 12,
   "metadata": {},
   "outputs": [
    {
     "name": "stdout",
     "output_type": "stream",
     "text": [
      "+--------------------+------------------+\n",
      "|           course_id|dropout_per_course|\n",
      "+--------------------+------------------+\n",
      "|1pvLqtotBsKv7QSOs...|              1383|\n",
      "|3VkHkmOtom3jM2wCu...|              1217|\n",
      "|3cnZpv6ReApmCaZya...|              1290|\n",
      "|5Gyp41oLVo7Gg7vF4...|              1930|\n",
      "|5X6FeZozNMgE2VRi3...|               603|\n",
      "+--------------------+------------------+\n",
      "only showing top 5 rows\n",
      "\n"
     ]
    }
   ],
   "source": [
    "dropout_df = (\n",
    "    enrollment_df\n",
    "        .join(truth_df, [\"enrollment_id\"])\n",
    "        .filter(col(\"dropout\") == 1)\n",
    "        .groupBy(\"course_id\")\n",
    "        .agg(count(\"enrollment_id\").alias(\"dropout_per_course\"))\n",
    "        .orderBy(\"course_id\")\n",
    ")\n",
    "dropout_df.cache()\n",
    "dropout_df.show(5)"
   ]
  },
  {
   "cell_type": "code",
   "execution_count": 13,
   "metadata": {},
   "outputs": [
    {
     "name": "stdout",
     "output_type": "stream",
     "text": [
      "+--------------------+------------------+\n",
      "|           course_id|       DropoutRate|\n",
      "+--------------------+------------------+\n",
      "|1pvLqtotBsKv7QSOs...|0.5781772575250836|\n",
      "|3VkHkmOtom3jM2wCu...|0.6060756972111554|\n",
      "|3cnZpv6ReApmCaZya...|0.5845038513819665|\n",
      "|5Gyp41oLVo7Gg7vF4...|0.6450534759358288|\n",
      "|5X6FeZozNMgE2VRi3...|0.6714922048997772|\n",
      "+--------------------+------------------+\n",
      "only showing top 5 rows\n",
      "\n"
     ]
    }
   ],
   "source": [
    "droupout_rate_df = (\n",
    "    course_df\n",
    "        .join(dropout_df, [\"course_id\"])\n",
    "        .select(\n",
    "            col(\"course_id\"), \n",
    "            (col(\"dropout_per_course\") / col(\"count_eid_per_course\")).alias(\"DropoutRate\")\n",
    "        )\n",
    "        .orderBy(\"course_id\")\n",
    ")\n",
    "droupout_rate_df.show(5)"
   ]
  },
  {
   "cell_type": "code",
   "execution_count": 14,
   "metadata": {},
   "outputs": [
    {
     "name": "stdout",
     "output_type": "stream",
     "text": [
      "+--------------------+----------------+\n",
      "|            username|enrollment_count|\n",
      "+--------------------+----------------+\n",
      "|00038q9llTDdhWUJP...|               1|\n",
      "|001Wosm650x4ktE3N...|               2|\n",
      "|001tRjfJQIzbegatO...|               1|\n",
      "|0089b3aJIRi14gwpk...|               2|\n",
      "|008XUUt5rc6hUrg7S...|               1|\n",
      "+--------------------+----------------+\n",
      "only showing top 5 rows\n",
      "\n"
     ]
    }
   ],
   "source": [
    "user_enrollment_count_df = (\n",
    "    enrollment_df\n",
    "        .groupBy(\"username\")\n",
    "        .agg(count(\"enrollment_id\").alias(\"enrollment_count\"))\n",
    "        .orderBy(\"username\")\n",
    ")\n",
    "user_enrollment_count_df.show(5)"
   ]
  },
  {
   "cell_type": "code",
   "execution_count": 15,
   "metadata": {},
   "outputs": [
    {
     "name": "stdout",
     "output_type": "stream",
     "text": [
      "+--------------------+-------------+\n",
      "|            username|dropout_count|\n",
      "+--------------------+-------------+\n",
      "|00038q9llTDdhWUJP...|            1|\n",
      "|001Wosm650x4ktE3N...|            2|\n",
      "|0089b3aJIRi14gwpk...|            2|\n",
      "|00DCGVn7t4aRvR2Cs...|            3|\n",
      "|00DkxnJmW7N1BC73X...|            1|\n",
      "+--------------------+-------------+\n",
      "only showing top 5 rows\n",
      "\n"
     ]
    }
   ],
   "source": [
    "user_dropout_count_df = (\n",
    "    enrollment_df\n",
    "        .join(truth_df, [\"enrollment_id\"])\n",
    "        .filter(col(\"dropout\"))\n",
    "        .groupBy(\"username\").count()\n",
    "        .withColumnRenamed(\"count\", \"dropout_count\")\n",
    "        .orderBy(\"username\")\n",
    ")\n",
    "user_dropout_count_df.show(5)"
   ]
  },
  {
   "cell_type": "code",
   "execution_count": 16,
   "metadata": {},
   "outputs": [
    {
     "name": "stdout",
     "output_type": "stream",
     "text": [
      "+--------------------+-----------+\n",
      "|            username|DropoutRate|\n",
      "+--------------------+-----------+\n",
      "|00038q9llTDdhWUJP...|        1.0|\n",
      "|001Wosm650x4ktE3N...|        1.0|\n",
      "|0089b3aJIRi14gwpk...|        1.0|\n",
      "|00DCGVn7t4aRvR2Cs...|        1.0|\n",
      "|00DkxnJmW7N1BC73X...|        1.0|\n",
      "+--------------------+-----------+\n",
      "only showing top 5 rows\n",
      "\n"
     ]
    }
   ],
   "source": [
    "(\n",
    "    user_enrollment_count_df\n",
    "        .join(user_dropout_count_df, [\"username\"])\n",
    "        .select(\n",
    "            col(\"username\"),\n",
    "            (col(\"dropout_count\") / col(\"enrollment_count\")).alias(\"DropoutRate\")\n",
    "        )\n",
    "        .show(5)\n",
    ")"
   ]
  },
  {
   "cell_type": "code",
   "execution_count": 19,
   "metadata": {},
   "outputs": [
    {
     "name": "stdout",
     "output_type": "stream",
     "text": [
      "+--------------------+--------------------+-------------------+-------------------+------+\n",
      "|           course_id|            username|     first_log_time|      last_log_time|period|\n",
      "+--------------------+--------------------+-------------------+-------------------+------+\n",
      "|1pvLqtotBsKv7QSOs...|m0g02LLsbqZWAE9Co...|2013-11-26 00:00:00|2013-11-29 00:00:00|     3|\n",
      "|1pvLqtotBsKv7QSOs...|bvSdd28WpB7SHMz1h...|2013-11-27 00:00:00|2013-12-03 00:00:00|     6|\n",
      "|1pvLqtotBsKv7QSOs...|EaDnLkVMEsYfdUTQm...|2013-12-18 00:00:00|2013-12-18 00:00:00|     0|\n",
      "|1pvLqtotBsKv7QSOs...|hdHnMG0t4845BoJsf...|2013-11-27 00:00:00|2013-12-23 00:00:00|    26|\n",
      "|1pvLqtotBsKv7QSOs...|TcKNtfskDez5flvkR...|2013-11-30 00:00:00|2013-11-30 00:00:00|     0|\n",
      "|1pvLqtotBsKv7QSOs...|L5ih0rvnVHl900daO...|2013-11-27 00:00:00|2013-12-25 00:00:00|    28|\n",
      "|1pvLqtotBsKv7QSOs...|PZDWz87kpnLsW0EEs...|2013-11-27 00:00:00|2013-12-11 00:00:00|    14|\n",
      "|1pvLqtotBsKv7QSOs...|GGioMvSJ2TI5A4koI...|2013-11-27 00:00:00|2013-12-19 00:00:00|    22|\n",
      "|1pvLqtotBsKv7QSOs...|8vHoDsDJvO6YjWw79...|2013-11-26 00:00:00|2013-12-07 00:00:00|    11|\n",
      "|1pvLqtotBsKv7QSOs...|8eJnnDMhkLCv0BOtz...|2013-11-26 00:00:00|2013-12-16 00:00:00|    20|\n",
      "|1pvLqtotBsKv7QSOs...|SkB5BIMdlDlwK1Uk3...|2013-12-01 00:00:00|2013-12-15 00:00:00|    14|\n",
      "|1pvLqtotBsKv7QSOs...|H3GproZOcX08yG6Uk...|2013-12-07 00:00:00|2013-12-07 00:00:00|     0|\n",
      "|1pvLqtotBsKv7QSOs...|bEUikCbVeBoV3FyBT...|2013-12-02 00:00:00|2013-12-02 00:00:00|     0|\n",
      "|1pvLqtotBsKv7QSOs...|z7RV9mcIxE4TsoVWl...|2013-12-03 00:00:00|2013-12-22 00:00:00|    19|\n",
      "|1pvLqtotBsKv7QSOs...|9T1FzQvCuezvfpvn7...|2013-12-05 00:00:00|2013-12-05 00:00:00|     0|\n",
      "|1pvLqtotBsKv7QSOs...|zZWPxlDYqF21Yiirh...|2013-12-01 00:00:00|2013-12-01 00:00:00|     0|\n",
      "|1pvLqtotBsKv7QSOs...|ncBtBcs9FkLzV2ZAv...|2013-12-25 00:00:00|2013-12-25 00:00:00|     0|\n",
      "|1pvLqtotBsKv7QSOs...|6YeEkKlvpWEN2n7BZ...|2013-11-29 00:00:00|2013-12-06 00:00:00|     7|\n",
      "|1pvLqtotBsKv7QSOs...|Xci1viGBABzXjikcw...|2013-11-26 00:00:00|2013-12-10 00:00:00|    14|\n",
      "|1pvLqtotBsKv7QSOs...|WzguuXWyHQN9qcbb4...|2013-12-07 00:00:00|2013-12-07 00:00:00|     0|\n",
      "+--------------------+--------------------+-------------------+-------------------+------+\n",
      "only showing top 20 rows\n",
      "\n"
     ]
    }
   ],
   "source": [
    "(\n",
    "    enrollment_df\n",
    "        .join(log_df, [\"enrollment_id\"])\n",
    "        .groupBy(\"course_id\", \"username\")\n",
    "        .agg(min(\"date\").alias(\"first_log_time\"), max(\"date\").alias(\"last_log_time\"))\n",
    "        .withColumn(\"period\", datediff(col(\"last_log_time\"), col(\"first_log_time\")))\n",
    "        .orderBy(\"course_id\")\n",
    "        .show()\n",
    ")"
   ]
  },
  {
   "cell_type": "code",
   "execution_count": 54,
   "metadata": {},
   "outputs": [
    {
     "name": "stdout",
     "output_type": "stream",
     "text": [
      "+--------------------+--------------------+--------------------+\n",
      "|           course_id|            username|effective_study_days|\n",
      "+--------------------+--------------------+--------------------+\n",
      "|q6A6QG7qMpyNcznyT...|bhmI4wUi4dYE8RHNn...|                  30|\n",
      "|shM3Yy9vxHn2aqjSY...|SSpeewBDHUNKkvUJM...|                  30|\n",
      "|mTmmr5zd8l4wXhwiU...|USLTnsAwagwK2c83K...|                  30|\n",
      "|9Bd26pfDLvkPINwLn...|7m4aBRXMcWXy37TP9...|                  30|\n",
      "|HbeAZjZFFQUe90oTP...|PNXl2SBlhwK5mHxVh...|                  30|\n",
      "|9Bd26pfDLvkPINwLn...|USLTnsAwagwK2c83K...|                  30|\n",
      "|9Bd26pfDLvkPINwLn...|MLIbW3bL7O6QPslL7...|                  30|\n",
      "|bWdj2GDclj5ofokWj...|rT1OrFQC18rdvYkTG...|                  30|\n",
      "|I7Go4XwWgpjRJM8EZ...|OTXI4wiLpFntQK2eN...|                  30|\n",
      "|RXDvfPUBYFlVdlueB...|XjrP1VAGwJCwkRm4K...|                  30|\n",
      "|shM3Yy9vxHn2aqjSY...|Oiijrt01HwezoanXS...|                  30|\n",
      "|ykoe1cCWK134BJmfb...|oSETRB1geWgwDVgBT...|                  30|\n",
      "|5Gyp41oLVo7Gg7vF4...|ZhTCqX8GMUcn0a0be...|                  30|\n",
      "|H2lDW05SyKnwntZ6F...|3SP9iNDvUt8m67ZMq...|                  30|\n",
      "|SpATywNh6bZuzm8s1...|HuDaXYBstQFpbEGg5...|                  29|\n",
      "|shM3Yy9vxHn2aqjSY...|tM2w3N8FL91CJHdTM...|                  29|\n",
      "|Er0RFawC4sHagDmmQ...|L9qMLlGWAeAI6zWAZ...|                  29|\n",
      "|7GRhBDsirIGkRZBtS...|2oTvbzieHn2y5ooze...|                  29|\n",
      "|q6A6QG7qMpyNcznyT...|ZNcLOAJ2r3H5DqhbG...|                  29|\n",
      "|H2lDW05SyKnwntZ6F...|ihItNGeTVFlZMkUaG...|                  29|\n",
      "+--------------------+--------------------+--------------------+\n",
      "only showing top 20 rows\n",
      "\n"
     ]
    }
   ],
   "source": [
    "(\n",
    "    enrollment_df\n",
    "        .join(log_df, [\"enrollment_id\"])\n",
    "        .groupBy(\"course_id\", \"username\")\n",
    "        .agg(countDistinct(col(\"date\")).alias(\"effective_study_days\"))\n",
    "        .orderBy(desc(\"effective_study_days\"))\n",
    "        .show()\n",
    ")"
   ]
  },
  {
   "cell_type": "code",
   "execution_count": 33,
   "metadata": {},
   "outputs": [
    {
     "name": "stdout",
     "output_type": "stream",
     "text": [
      "+--------------------+-------------+----------+-----------+\n",
      "|           course_id|enrollment_id|     event|count_event|\n",
      "+--------------------+-------------+----------+-----------+\n",
      "|1pvLqtotBsKv7QSOs...|       115219|discussion|        168|\n",
      "|1pvLqtotBsKv7QSOs...|       199619|  navigate|          3|\n",
      "|1pvLqtotBsKv7QSOs...|       171384|page_close|          9|\n",
      "|1pvLqtotBsKv7QSOs...|       111107|  navigate|         61|\n",
      "|1pvLqtotBsKv7QSOs...|       113468|     video|         36|\n",
      "|1pvLqtotBsKv7QSOs...|       111238|page_close|         22|\n",
      "|1pvLqtotBsKv7QSOs...|        13886|  navigate|         26|\n",
      "|1pvLqtotBsKv7QSOs...|       112390|      wiki|          4|\n",
      "|1pvLqtotBsKv7QSOs...|       123136|      wiki|          2|\n",
      "|1pvLqtotBsKv7QSOs...|       126940|discussion|          5|\n",
      "|1pvLqtotBsKv7QSOs...|       128696|page_close|         41|\n",
      "|1pvLqtotBsKv7QSOs...|       133083|     video|         69|\n",
      "|1pvLqtotBsKv7QSOs...|       152279|     video|         26|\n",
      "|1pvLqtotBsKv7QSOs...|       111178|discussion|         26|\n",
      "|1pvLqtotBsKv7QSOs...|        73863|    access|         93|\n",
      "|1pvLqtotBsKv7QSOs...|       111810|discussion|         22|\n",
      "|1pvLqtotBsKv7QSOs...|       110878|      wiki|          1|\n",
      "|1pvLqtotBsKv7QSOs...|       112460|     video|         16|\n",
      "|1pvLqtotBsKv7QSOs...|       111107|discussion|         25|\n",
      "|1pvLqtotBsKv7QSOs...|       112824|  navigate|         14|\n",
      "+--------------------+-------------+----------+-----------+\n",
      "only showing top 20 rows\n",
      "\n"
     ]
    }
   ],
   "source": [
    "(\n",
    "    enrollment_df\n",
    "        .join(log_df, [\"enrollment_id\"])\n",
    "        .join(truth_df, [\"enrollment_id\"])\n",
    "        .filter(~col(\"dropout\"))\n",
    "        .groupBy(\"course_id\", \"enrollment_id\", \"event\").count()\n",
    "        .withColumnRenamed(\"count\", \"count_event\")\n",
    "        .orderBy(\"course_id\")\n",
    "        .show()\n",
    ")"
   ]
  },
  {
   "cell_type": "code",
   "execution_count": 36,
   "metadata": {},
   "outputs": [
    {
     "name": "stdout",
     "output_type": "stream",
     "text": [
      "+--------------------+----------+------------------+\n",
      "|                c_id|  sq_event|  avg(count_event)|\n",
      "+--------------------+----------+------------------+\n",
      "|1pvLqtotBsKv7QSOs...|   problem|32.845697329376854|\n",
      "|1pvLqtotBsKv7QSOs...|  navigate|21.324257425742573|\n",
      "|1pvLqtotBsKv7QSOs...|page_close|26.376288659793815|\n",
      "|1pvLqtotBsKv7QSOs...|discussion| 18.91830065359477|\n",
      "|1pvLqtotBsKv7QSOs...|      wiki|2.7465437788018434|\n",
      "|1pvLqtotBsKv7QSOs...|     video| 40.42368421052632|\n",
      "|1pvLqtotBsKv7QSOs...|    access| 94.90306122448979|\n",
      "|3VkHkmOtom3jM2wCu...|discussion|26.024752475247524|\n",
      "|3VkHkmOtom3jM2wCu...|   problem| 56.52486187845304|\n",
      "|3VkHkmOtom3jM2wCu...|     video|36.567460317460316|\n",
      "|3VkHkmOtom3jM2wCu...|  navigate|24.143356643356643|\n",
      "|3VkHkmOtom3jM2wCu...|    access| 123.6390977443609|\n",
      "|3VkHkmOtom3jM2wCu...|      wiki|3.6283783783783785|\n",
      "|3VkHkmOtom3jM2wCu...|page_close|44.511538461538464|\n",
      "|3cnZpv6ReApmCaZya...|    access| 80.97765363128492|\n",
      "|3cnZpv6ReApmCaZya...|discussion| 19.09259259259259|\n",
      "|3cnZpv6ReApmCaZya...|      wiki|2.1627906976744184|\n",
      "|3cnZpv6ReApmCaZya...|     video| 20.71299093655589|\n",
      "|3cnZpv6ReApmCaZya...|   problem|103.76890756302521|\n",
      "|3cnZpv6ReApmCaZya...|page_close|32.345821325648416|\n",
      "+--------------------+----------+------------------+\n",
      "only showing top 20 rows\n",
      "\n"
     ]
    }
   ],
   "source": [
    "(\n",
    "    enrollment_df\n",
    "        .join(log_df, [\"enrollment_id\"])\n",
    "        .join(truth_df, [\"enrollment_id\"])\n",
    "        .filter(~col(\"dropout\"))\n",
    "        .groupBy(\"course_id\", \"enrollment_id\", \"event\").count()\n",
    "        .withColumnRenamed(\"count\", \"count_event\")\n",
    "        .groupBy(col(\"course_id\").alias(\"c_id\"), col(\"event\").alias(\"sq_event\")).agg(avg(\"count_event\"))\n",
    "        .orderBy(\"c_id\")\n",
    "        .show()\n",
    ")"
   ]
  },
  {
   "cell_type": "code",
   "execution_count": null,
   "metadata": {},
   "outputs": [],
   "source": [
    "columns_list = joined_result_no_null.columns\n",
    "columns_list.remove(\"enrollment_id\")\n",
    "\n",
    "assembler = VectorAssembler(inputCols=columns_list, outputCol=\"feature\")\n",
    "assemble_result = assembler.transform(joined_result_no_null)\n",
    "\n",
    "for column in columns_list:\n",
    "    assemble_result = assemble.result.drop(column)\n",
    "    \n",
    "final_result = assemble_result.sort(\"enrollment_id\", ascending=True)"
   ]
  }
 ],
 "metadata": {
  "kernelspec": {
   "display_name": "Python 3",
   "language": "python",
   "name": "python3"
  },
  "language_info": {
   "codemirror_mode": {
    "name": "ipython",
    "version": 3
   },
   "file_extension": ".py",
   "mimetype": "text/x-python",
   "name": "python",
   "nbconvert_exporter": "python",
   "pygments_lexer": "ipython3",
   "version": "3.6.4"
  }
 },
 "nbformat": 4,
 "nbformat_minor": 2
}
