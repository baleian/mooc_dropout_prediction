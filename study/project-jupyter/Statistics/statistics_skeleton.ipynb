{
 "cells": [
  {
   "cell_type": "code",
   "execution_count": 8,
   "metadata": {},
   "outputs": [],
   "source": [
    "from pyspark.sql import SparkSession\n",
    "spark = SparkSession.builder.master(\"local[*]\").appName(\"Statistics\").getOrCreate()\n",
    "sc = spark.sparkContext"
   ]
  },
  {
   "cell_type": "code",
   "execution_count": 9,
   "metadata": {},
   "outputs": [
    {
     "data": {
      "text/plain": [
       "[array([0.00e+00, 1.81e+02, 5.45e+03, 0.00e+00, 0.00e+00, 0.00e+00,\n",
       "        0.00e+00, 0.00e+00, 1.00e+00, 0.00e+00, 0.00e+00, 0.00e+00,\n",
       "        0.00e+00, 0.00e+00, 0.00e+00, 0.00e+00, 0.00e+00, 0.00e+00,\n",
       "        0.00e+00, 8.00e+00, 8.00e+00, 0.00e+00, 0.00e+00, 0.00e+00,\n",
       "        0.00e+00, 1.00e+00, 0.00e+00, 0.00e+00, 9.00e+00, 9.00e+00,\n",
       "        1.00e+00, 0.00e+00, 1.10e-01, 0.00e+00, 0.00e+00, 0.00e+00,\n",
       "        0.00e+00, 0.00e+00])]"
      ]
     },
     "execution_count": 9,
     "metadata": {},
     "output_type": "execute_result"
    }
   ],
   "source": [
    "import numpy as np\n",
    "def parse_interaction(line):\n",
    "    line_split = line.split(\",\")\n",
    "    symbolic_indexes = [1,2,3,41]\n",
    "    clean_line_split = [item for i, item in enumerate(line_split) if i not in symbolic_indexes]\n",
    "    return np.array([float(x) for x in clean_line_split])\n",
    "\n",
    "raw_data = sc.textFile(\"kddcup.data_10_percent.gz\")\n",
    "vector_data = raw_data.map(parse_interaction)\n",
    "vector_data.take(1)"
   ]
  },
  {
   "cell_type": "code",
   "execution_count": 10,
   "metadata": {},
   "outputs": [],
   "source": [
    "def printStatistics(summary):\n",
    "    print(\"Duration Statistics\")\n",
    "    print(\" Mean: {}\".format(round(summary.mean()[0], 3)))\n",
    "    print(\" St. deviation: {}\".format(round(sqrt(summary.variance()[0]), 3)))\n",
    "    print(\" Max value: {}\".format(round(summary.max()[0], 3)))\n",
    "    print(\" Min value: {}\".format(round(summary.min()[0], 3)))\n",
    "    print(\" Total value count: {}\".format(summary.count()))\n",
    "    print(\" Number of non-zero values: {}\".format(summary.numNonzeros()[0]))"
   ]
  },
  {
   "cell_type": "code",
   "execution_count": 11,
   "metadata": {},
   "outputs": [
    {
     "name": "stdout",
     "output_type": "stream",
     "text": [
      "Duration Statistics\n",
      " Mean: 47.979\n",
      " St. deviation: 707.746\n",
      " Max value: 58329.0\n",
      " Min value: 0.0\n",
      " Total value count: 494021\n",
      " Number of non-zero values: 12350.0\n"
     ]
    }
   ],
   "source": [
    "from pyspark.mllib.stat import Statistics\n",
    "from math import sqrt\n",
    "\n",
    "summary = Statistics.colStats(vector_data)\n",
    "printStatistics(summary)"
   ]
  },
  {
   "cell_type": "code",
   "execution_count": 12,
   "metadata": {},
   "outputs": [
    {
     "data": {
      "text/plain": [
       "[('normal.', array([0.00e+00, 1.81e+02, 5.45e+03, 0.00e+00, 0.00e+00, 0.00e+00,\n",
       "         0.00e+00, 0.00e+00, 1.00e+00, 0.00e+00, 0.00e+00, 0.00e+00,\n",
       "         0.00e+00, 0.00e+00, 0.00e+00, 0.00e+00, 0.00e+00, 0.00e+00,\n",
       "         0.00e+00, 8.00e+00, 8.00e+00, 0.00e+00, 0.00e+00, 0.00e+00,\n",
       "         0.00e+00, 1.00e+00, 0.00e+00, 0.00e+00, 9.00e+00, 9.00e+00,\n",
       "         1.00e+00, 0.00e+00, 1.10e-01, 0.00e+00, 0.00e+00, 0.00e+00,\n",
       "         0.00e+00, 0.00e+00]))]"
      ]
     },
     "execution_count": 12,
     "metadata": {},
     "output_type": "execute_result"
    }
   ],
   "source": [
    "def parse_interaction_with_key(line):\n",
    "    line_split = line.split(\",\")\n",
    "    symbolic_indexes = [1,2,3,41]\n",
    "    clean_line_split = [item for i, item in enumerate(line_split) if i not in symbolic_indexes]\n",
    "    return (line_split[-1], np.array([float(x) for x in clean_line_split]))\n",
    "\n",
    "label_vector_data = raw_data.map(parse_interaction_with_key)\n",
    "label_vector_data.take(1)"
   ]
  },
  {
   "cell_type": "code",
   "execution_count": 13,
   "metadata": {},
   "outputs": [
    {
     "name": "stdout",
     "output_type": "stream",
     "text": [
      "Duration Statistics\n",
      " Mean: 216.657\n",
      " St. deviation: 1359.213\n",
      " Max value: 58329.0\n",
      " Min value: 0.0\n",
      " Total value count: 97278\n",
      " Number of non-zero values: 11690.0\n"
     ]
    }
   ],
   "source": [
    "normal_label_data = label_vector_data.filter(lambda r: r[0] == \"normal.\").values()\n",
    "normal_summary = Statistics.colStats(normal_label_data)\n",
    "printStatistics(normal_summary)"
   ]
  },
  {
   "cell_type": "code",
   "execution_count": 14,
   "metadata": {},
   "outputs": [
    {
     "name": "stdout",
     "output_type": "stream",
     "text": [
      "Duration Statistics\n",
      " Mean: 216.657\n",
      " St. deviation: 1359.213\n",
      " Max value: 58329.0\n",
      " Min value: 0.0\n",
      " Total value count: 97278\n",
      " Number of non-zero values: 11690.0\n"
     ]
    }
   ],
   "source": [
    "def summary_by_label(raw_data, label):\n",
    "    label_vector_data = raw_data.map(parse_interaction_with_key).filter(lambda r: r[0] == label).map(lambda r: r[1])\n",
    "    label_summary = Statistics.colStats(label_vector_data)\n",
    "    return label_summary\n",
    "\n",
    "label_summary = summary_by_label(raw_data, \"normal.\")\n",
    "printStatistics(label_summary)"
   ]
  },
  {
   "cell_type": "code",
   "execution_count": 15,
   "metadata": {},
   "outputs": [
    {
     "name": "stdout",
     "output_type": "stream",
     "text": [
      "[('back.', <pyspark.mllib.stat._statistics.MultivariateStatisticalSummary object at 0x00000000060E3EB8>), ('normal.', <pyspark.mllib.stat._statistics.MultivariateStatisticalSummary object at 0x00000000060E3BA8>), ('imap.', <pyspark.mllib.stat._statistics.MultivariateStatisticalSummary object at 0x00000000060EE978>), ('ftp_write.', <pyspark.mllib.stat._statistics.MultivariateStatisticalSummary object at 0x00000000060EE470>)]\n"
     ]
    }
   ],
   "source": [
    "label_list = [\"back.\", \"normal.\", \"imap.\", \"ftp_write.\"]\n",
    "\n",
    "stats_by_label = [(label, summary_by_label(raw_data, label)) for label in label_list]\n",
    "print(stats_by_label)"
   ]
  },
  {
   "cell_type": "code",
   "execution_count": 16,
   "metadata": {},
   "outputs": [
    {
     "name": "stdout",
     "output_type": "stream",
     "text": [
      "[('back.', 0.1289151157512483, 1.1100621667887005, 14.0, 0.0, 2203), ('normal.', 216.65732231336938, 1359.213468917662, 58329.0, 0.0, 97278), ('imap.', 6.0, 14.174240399721281, 41.0, 0.0, 12), ('ftp_write.', 32.375, 47.44903280664121, 134.0, 0.0, 8)]\n"
     ]
    }
   ],
   "source": [
    "duration_by_label = [\n",
    "    (label, float(summary.mean()[0]), sqrt(summary.variance()[0]), float(summary.max()[0]), float(summary.min()[0]), summary.count())\n",
    "    for label, summary in stats_by_label\n",
    "]\n",
    "print(duration_by_label)"
   ]
  },
  {
   "cell_type": "code",
   "execution_count": 17,
   "metadata": {},
   "outputs": [
    {
     "name": "stdout",
     "output_type": "stream",
     "text": [
      "+----------+------------------+------------------+-------+---+-----+\n",
      "|     label|              Mean|             Stdev|    Min|Max|Count|\n",
      "+----------+------------------+------------------+-------+---+-----+\n",
      "|     back.|0.1289151157512483|1.1100621667887005|   14.0|0.0| 2203|\n",
      "|   normal.|216.65732231336938| 1359.213468917662|58329.0|0.0|97278|\n",
      "|     imap.|               6.0|14.174240399721281|   41.0|0.0|   12|\n",
      "|ftp_write.|            32.375| 47.44903280664121|  134.0|0.0|    8|\n",
      "+----------+------------------+------------------+-------+---+-----+\n",
      "\n"
     ]
    }
   ],
   "source": [
    "duration_by_label_rdd = sc.parallelize(duration_by_label)\n",
    "duration_by_label_df = spark.createDataFrame(duration_by_label_rdd,\n",
    "                                            [\"label\", \"Mean\", \"Stdev\",\"Min\", \"Max\", \"Count\"])\n",
    "duration_by_label_df.show()"
   ]
  },
  {
   "cell_type": "code",
   "execution_count": null,
   "metadata": {},
   "outputs": [],
   "source": []
  }
 ],
 "metadata": {
  "kernelspec": {
   "display_name": "Python 3",
   "language": "python",
   "name": "python3"
  },
  "language_info": {
   "codemirror_mode": {
    "name": "ipython",
    "version": 3
   },
   "file_extension": ".py",
   "mimetype": "text/x-python",
   "name": "python",
   "nbconvert_exporter": "python",
   "pygments_lexer": "ipython3",
   "version": "3.6.6"
  }
 },
 "nbformat": 4,
 "nbformat_minor": 2
}
