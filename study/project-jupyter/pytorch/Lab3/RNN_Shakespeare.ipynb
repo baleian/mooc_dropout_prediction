{
 "cells": [
  {
   "cell_type": "code",
   "execution_count": 3,
   "metadata": {},
   "outputs": [],
   "source": [
    "import torch\n",
    "import torch.nn as nn\n",
    "\n",
    "import unidecode\n",
    "import string\n",
    "import random\n",
    "\n",
    "import matplotlib.pyplot as plt"
   ]
  },
  {
   "cell_type": "code",
   "execution_count": 4,
   "metadata": {},
   "outputs": [],
   "source": [
    "all_characters = string.printable\n",
    "n_characters = len(all_characters)\n",
    "\n",
    "file = unidecode.unidecode(open('../data/shakespeare.txt').read())\n",
    "file_len = len(file)"
   ]
  },
  {
   "cell_type": "code",
   "execution_count": 5,
   "metadata": {},
   "outputs": [],
   "source": [
    "chunk_len = 200\n",
    "\n",
    "def random_chunk():\n",
    "    start_index = random.randint(0, file_len - chunk_len)\n",
    "    end_index = start_index + chunk_len + 1\n",
    "    return file[start_index:end_index]\n",
    "\n",
    "def random_training_set():\n",
    "    chunk = random_chunk()\n",
    "    inp = char_tensor(chunk[:-1])\n",
    "    target = char_tensor(chunk[1:])\n",
    "    return inp, target\n",
    "\n",
    "def char_tensor(string):\n",
    "    tensor = torch.zeros(len(string)).long()\n",
    "    for c in range(len(string)):\n",
    "        tensor[c] = all_characters.index(string[c])\n",
    "    return tensor"
   ]
  },
  {
   "cell_type": "code",
   "execution_count": 6,
   "metadata": {},
   "outputs": [],
   "source": [
    "n_epochs = 2000\n",
    "print_every = 100\n",
    "plot_every = 10\n",
    "hidden_size = 100\n",
    "n_layers = 1\n",
    "lr = 0.005"
   ]
  },
  {
   "cell_type": "code",
   "execution_count": 15,
   "metadata": {},
   "outputs": [],
   "source": [
    "class Model(nn.Module):\n",
    "    def __init__(self, input_size, hidden_size, output_size, n_layers=1):\n",
    "        super(Model, self).__init__()\n",
    "        self.input_size = input_size\n",
    "        self.hidden_size = hidden_size\n",
    "        self.output_size = output_size\n",
    "        self.n_layers = n_layers\n",
    "        \n",
    "        self.encoder = torch.nn.Embedding(input_size, hidden_size)\n",
    "        self.rnn = torch.nn.RNN(hidden_size, hidden_size, n_layers)\n",
    "        self.decoder = torch.nn.Linear(hidden_size, output_size)\n",
    "\n",
    "    def forward(self, input, hidden):\n",
    "        input = self.encoder(input.view(1, -1))\n",
    "        output, hidden = self.rnn(input.view(1, 1, -1), hidden)\n",
    "        output = self.decoder(output.view(1, -1))\n",
    "        return output, hidden\n",
    "\n",
    "    def init_hidden(self):\n",
    "        return torch.zeros(self.n_layers, 1, self.hidden_size)"
   ]
  },
  {
   "cell_type": "code",
   "execution_count": 52,
   "metadata": {},
   "outputs": [],
   "source": [
    "model = Model(n_characters, hidden_size, hidden_size)\n",
    "optimizer = torch.optim.Adam(model.parameters(), lr=lr)\n",
    "lossfn = torch.nn.CrossEntropyLoss()"
   ]
  },
  {
   "cell_type": "code",
   "execution_count": 59,
   "metadata": {},
   "outputs": [
    {
     "name": "stdout",
     "output_type": "stream",
     "text": [
      "[(100 5%) 1.8849]\n",
      "[(200 10%) 1.9730]\n",
      "[(300 15%) 1.8705]\n",
      "[(400 20%) 1.8708]\n",
      "[(500 25%) 2.1193]\n",
      "[(600 30%) 1.7717]\n",
      "[(700 35%) 1.7826]\n",
      "[(800 40%) 1.7427]\n",
      "[(900 45%) 2.1614]\n",
      "[(1000 50%) 1.7844]\n",
      "[(1100 55%) 2.0272]\n",
      "[(1200 60%) 1.6959]\n",
      "[(1300 65%) 1.8420]\n",
      "[(1400 70%) 1.6987]\n",
      "[(1500 75%) 1.8076]\n",
      "[(1600 80%) 1.9710]\n",
      "[(1700 85%) 1.7485]\n",
      "[(1800 90%) 1.6915]\n",
      "[(1900 95%) 1.7054]\n",
      "[(2000 100%) 1.8983]\n"
     ]
    }
   ],
   "source": [
    "all_losses = []\n",
    "loss_avg = 0\n",
    "\n",
    "def train(inp, target):\n",
    "    hidden = model.init_hidden()\n",
    "    model.zero_grad()\n",
    "    loss = 0\n",
    "    for c in range(chunk_len):\n",
    "        output, hidden = model(inp[c], hidden)\n",
    "        loss += lossfn(output, target[c].reshape(1))\n",
    "    optimizer.zero_grad()\n",
    "    loss.backward()\n",
    "    optimizer.step()\n",
    "    return loss / chunk_len\n",
    "\n",
    "def evaluate(prime_str='A', predict_len=100, temperature=0.8):\n",
    "    hidden = model.init_hidden()\n",
    "    prime_input = char_tensor(prime_str)\n",
    "    predicted = prime_str\n",
    "\n",
    "    for p in range(len(prime_str) - 1):\n",
    "        _, hidden = model(prime_input[p], hidden)\n",
    "    inp = prime_input[-1]\n",
    "\n",
    "    for p in range(predict_len):\n",
    "        output, hidden = model(inp, hidden)\n",
    "\n",
    "        output_dist = output.data.view(-1).div(temperature).exp()\n",
    "        top_i = torch.multinomial(output_dist, 1)[0]\n",
    "\n",
    "        predicted_char = all_characters[top_i]\n",
    "        predicted += predicted_char\n",
    "        inp = char_tensor(predicted_char)\n",
    "\n",
    "    return predicted\n",
    "\n",
    "for epoch in range(1, n_epochs + 1):\n",
    "    loss = train(*random_training_set())\n",
    "    loss_avg += loss\n",
    "\n",
    "    if epoch % print_every == 0:\n",
    "        print('[(%d %d%%) %.4f]' % (epoch, float(epoch) / n_epochs * 100, loss))\n",
    "\n",
    "    if epoch % plot_every == 0:\n",
    "        all_losses.append(loss_avg / plot_every)\n",
    "        loss_avg = 0"
   ]
  },
  {
   "cell_type": "code",
   "execution_count": 58,
   "metadata": {},
   "outputs": [
    {
     "name": "stdout",
     "output_type": "stream",
     "text": [
      "Happy birthday!\n",
      "What was with lieth hall lover for a?\n",
      "Ever sired to eas here and lads us so his have a seappier?\n",
      "\n",
      "C\n",
      "Happy birthday!\n",
      "When and he maki'ds the ciendy of so to your eeder you lown\n",
      "Wis some\n",
      "Thy lave sears the hear me fis\n",
      "Happy birthday!\n",
      "\n",
      "CAPULEESTIO:\n",
      "But beder, in surer the read.\n",
      "Wand stender tell a shall the upon and net.\n",
      "\n",
      "HENRY VINC\n",
      "Happy birthday! I speep.\n",
      "\n",
      "BORTHERE:\n",
      "You oum Mesert;\n",
      "I for requme in cord,\n",
      "Where and for the have ken the vinked.\n",
      "\n",
      "L\n",
      "Happy birthday!\n",
      "So be his seever:\n",
      "To to the addy would prown thou have of kindsed seed of lark's sho degrack to mor\n",
      "Happy birthday!\n",
      "\n",
      "GRTEBET:\n",
      "Ay and with that the kinds,\n",
      "For Marest the drive come have a mand and part\n",
      "Tigh, come, lo\n",
      "Happy birthday!\n",
      "Be in must singer\n",
      "Seen not so;\n",
      "He have mone, o' and sweed will fear Aw Jord.\n",
      "\n",
      "Sintreng, 'twall have\n",
      "Happy birthday!\n",
      "\n",
      "BOKE:\n",
      "O, the her aswer some, a\n",
      "gofer's give and not and have entled wand and times wild to mist a \n",
      "Happy birthday! in sispre blied and all shall ower lust to mind thight.\n",
      "\n",
      "AUTOSTER:\n",
      "But perest eysildan, poo used he\n",
      "Happy birthday! I havess an your hold sander that east and came king have it the eaints, and daugely cart he dand t\n"
     ]
    },
    {
     "data": {
      "image/png": "[encoded data removed]",
      "text/plain": [
       "<Figure size 432x288 with 1 Axes>"
      ]
     },
     "metadata": {},
     "output_type": "display_data"
    }
   ],
   "source": [
    "for i in range(10):\n",
    "    print(evaluate(\"Happy birthday!\", 100))\n",
    "\n",
    "plt.figure()\n",
    "plt.plot(all_losses)\n",
    "plt.show()"
   ]
  },
  {
   "cell_type": "code",
   "execution_count": null,
   "metadata": {},
   "outputs": [],
   "source": []
  }
 ],
 "metadata": {
  "kernelspec": {
   "display_name": "Python 3",
   "language": "python",
   "name": "python3"
  },
  "language_info": {
   "codemirror_mode": {
    "name": "ipython",
    "version": 3
   },
   "file_extension": ".py",
   "mimetype": "text/x-python",
   "name": "python",
   "nbconvert_exporter": "python",
   "pygments_lexer": "ipython3",
   "version": "3.6.4"
  }
 },
 "nbformat": 4,
 "nbformat_minor": 2
}
