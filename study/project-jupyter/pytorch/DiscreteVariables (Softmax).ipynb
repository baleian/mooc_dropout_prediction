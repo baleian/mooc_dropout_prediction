{
 "cells": [
  {
   "cell_type": "code",
   "execution_count": 57,
   "metadata": {},
   "outputs": [],
   "source": [
    "import torch\n",
    "import numpy as np\n",
    "import matplotlib.pyplot as plt\n",
    "import torch.nn.functional as F"
   ]
  },
  {
   "cell_type": "code",
   "execution_count": 70,
   "metadata": {},
   "outputs": [],
   "source": [
    "APPLE = 0\n",
    "BANANA = 1\n",
    "COCONUT = 2\n",
    "\n",
    "look_up = [\n",
    "    [0.1, -0.4, 0.2, 0.5],\n",
    "    [0.4, 1.4, -1.0, 0.1],\n",
    "    [1.1, 0.9, 1.1, 0.5]\n",
    "]\n",
    "\n",
    "x_train = torch.Tensor([\n",
    "    [*look_up[APPLE], 1], \n",
    "    [*look_up[BANANA], 5], \n",
    "    [*look_up[COCONUT], 6]\n",
    "])\n",
    "\n",
    "y_train = torch.Tensor([\n",
    "    [0, 1, 0, 0], \n",
    "    [0, 0, 1, 16], \n",
    "    [0, 0, 1, 20]\n",
    "])"
   ]
  },
  {
   "cell_type": "code",
   "execution_count": 65,
   "metadata": {},
   "outputs": [],
   "source": [
    "num_steps = 20000\n",
    "learning_rate = 0.01"
   ]
  },
  {
   "cell_type": "code",
   "execution_count": 66,
   "metadata": {},
   "outputs": [],
   "source": [
    "class Model(torch.nn.Module):\n",
    "    def __init__(self):\n",
    "        super(Model, self).__init__()\n",
    "        self.layer1 = torch.nn.Linear(5, 3)\n",
    "        self.layer2a = torch.nn.Linear(3, 3)\n",
    "        self.layer2b = torch.nn.Linear(3, 1)\n",
    "        \n",
    "    def forward(self, x):\n",
    "        s = F.sigmoid(self.layer1(x))\n",
    "        v_hat = F.softmax(self.layer2a(s), 1)\n",
    "        y_hat = self.layer2b(s)\n",
    "        return torch.cat((v_hat, y_hat), 1)"
   ]
  },
  {
   "cell_type": "code",
   "execution_count": 67,
   "metadata": {},
   "outputs": [],
   "source": [
    "model = Model()\n",
    "criterion = torch.nn.MSELoss()\n",
    "optimizer = torch.optim.Adam(model.parameters(), lr=learning_rate)\n",
    "\n",
    "loss_history = []\n",
    "for step in range(num_steps):\n",
    "    y_hat = model(x_train)\n",
    "    loss = criterion(y_hat, y_train)\n",
    "    optimizer.zero_grad()\n",
    "    loss.backward()\n",
    "    optimizer.step()\n",
    "    loss_history.append(loss.data.numpy())"
   ]
  },
  {
   "cell_type": "code",
   "execution_count": 68,
   "metadata": {},
   "outputs": [
    {
     "data": {
      "image/png": "[encoded data removed]",
      "text/plain": [
       "<Figure size 432x288 with 1 Axes>"
      ]
     },
     "metadata": {},
     "output_type": "display_data"
    }
   ],
   "source": [
    "plt.plot(loss_history, label=\"loss\")\n",
    "plt.legend()\n",
    "plt.show()"
   ]
  },
  {
   "cell_type": "code",
   "execution_count": 81,
   "metadata": {},
   "outputs": [
    {
     "name": "stdout",
     "output_type": "stream",
     "text": [
      "tensor([[ 0.1000, -0.4000,  0.2000,  0.5000,  3.0000],\n",
      "        [ 1.1000,  0.9000,  1.1000,  0.5000,  5.0000]])\n",
      "tensor([[ 5.8390e-05,  9.9983e-01,  1.1292e-04,  1.4695e-01],\n",
      "        [ 4.9416e-06,  7.8113e-06,  9.9999e-01,  1.9981e+01]])\n"
     ]
    }
   ],
   "source": [
    "x_test = torch.Tensor([\n",
    "    [*look_up[APPLE], 3], \n",
    "    [*look_up[COCONUT], 5]]\n",
    ")\n",
    "\n",
    "predict = model(x_test)\n",
    "print(x_test)\n",
    "print(predict)"
   ]
  },
  {
   "cell_type": "code",
   "execution_count": null,
   "metadata": {},
   "outputs": [],
   "source": []
  }
 ],
 "metadata": {
  "kernelspec": {
   "display_name": "Python 3",
   "language": "python",
   "name": "python3"
  },
  "language_info": {
   "codemirror_mode": {
    "name": "ipython",
    "version": 3
   },
   "file_extension": ".py",
   "mimetype": "text/x-python",
   "name": "python",
   "nbconvert_exporter": "python",
   "pygments_lexer": "ipython3",
   "version": "3.6.4"
  }
 },
 "nbformat": 4,
 "nbformat_minor": 2
}
