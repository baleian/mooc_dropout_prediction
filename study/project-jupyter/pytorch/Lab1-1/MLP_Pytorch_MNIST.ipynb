{
 "cells": [
  {
   "cell_type": "code",
   "execution_count": 48,
   "metadata": {},
   "outputs": [],
   "source": [
    "import torch\n",
    "import torch.nn as nn\n",
    "import torch.optim as optim\n",
    "from torch.utils.data import DataLoader\n",
    "\n",
    "import torchvision.datasets as dset\n",
    "import torchvision.transforms as T\n",
    "import torch.nn.functional as F\n",
    "\n",
    "import matplotlib.pyplot as plt"
   ]
  },
  {
   "cell_type": "code",
   "execution_count": 73,
   "metadata": {},
   "outputs": [],
   "source": [
    "batch_size = 100\n",
    "mnist_train = dset.MNIST('../data', train=True, download=False, transform=T.ToTensor())\n",
    "loader_train = DataLoader(mnist_train, batch_size=batch_size, shuffle=True)\n",
    "mnist_test = dset.MNIST('../data', train=False, download=False, transform=T.ToTensor())\n",
    "loader_test = DataLoader(mnist_test, batch_size=batch_size, shuffle=True)"
   ]
  },
  {
   "cell_type": "code",
   "execution_count": 85,
   "metadata": {},
   "outputs": [],
   "source": [
    "class Flatten(nn.Module):\n",
    "    def forword(self, x):\n",
    "        N, C, H, W = x.size()\n",
    "        return x.view(N, -1)"
   ]
  },
  {
   "cell_type": "code",
   "execution_count": 90,
   "metadata": {},
   "outputs": [],
   "source": [
    "class Model(nn.Module):\n",
    "    def __init__(self):\n",
    "        super(Model, self).__init__()\n",
    "        self.flatten = Flatten()\n",
    "        self.inputLayer = torch.nn.Linear(784, 256)\n",
    "#         self.layer1 = torch.nn.Linear(256, 256)\n",
    "        self.outputLayer = torch.nn.Linear(256, 10)\n",
    "\n",
    "    def forward(self, x):\n",
    "        N, C, H, W = x.size()\n",
    "        s = F.relu(self.inputLayer(x.view(N, -1)))\n",
    "#         s = F.relu(self.layer1(s))\n",
    "        y_hat = F.softmax(self.outputLayer(s), 1)\n",
    "        return y_hat"
   ]
  },
  {
   "cell_type": "code",
   "execution_count": 81,
   "metadata": {},
   "outputs": [
    {
     "name": "stderr",
     "output_type": "stream",
     "text": [
      "C:\\ProgramData\\Anaconda3\\lib\\site-packages\\ipykernel_launcher.py:20: UserWarning: invalid index of a 0-dim tensor. This will be an error in PyTorch 0.5. Use tensor.item() to convert a 0-dim tensor to a Python number\n"
     ]
    },
    {
     "name": "stdout",
     "output_type": "stream",
     "text": [
      "Epoch = 5, loss = 1.4722\n",
      "Epoch = 10, loss = 1.5163\n",
      "Epoch = 15, loss = 1.4779\n",
      "Epoch = 20, loss = 1.4932\n",
      "Epoch = 25, loss = 1.4760\n",
      "Epoch = 30, loss = 1.4612\n",
      "Epoch = 35, loss = 1.4912\n",
      "Epoch = 40, loss = 1.4612\n",
      "Epoch = 45, loss = 1.4614\n",
      "Epoch = 50, loss = 1.4612\n",
      "Got 9790 / 10000 correct (97.90)\n"
     ]
    },
    {
     "data": {
      "image/png": "[encoded data removed]",
      "text/plain": [
       "<Figure size 432x288 with 1 Axes>"
      ]
     },
     "metadata": {},
     "output_type": "display_data"
    }
   ],
   "source": [
    "learning_rate = 0.001\n",
    "\n",
    "model = Model()\n",
    "lossfn = torch.nn.CrossEntropyLoss()\n",
    "optimizer = torch.optim.Adam(model.parameters(), lr=learning_rate)\n",
    "            \n",
    "cost = []\n",
    "def train(model, loss_fn, optimizer, num_epochs=1):\n",
    "    for epoch in range(num_epochs):\n",
    "        loss = None\n",
    "        for t, (x, y) in enumerate(loader_train):\n",
    "            x_var = x.float()\n",
    "            y_var = y.long()\n",
    "            y_hat = model(x_var)\n",
    "            loss = lossfn(y_hat, y_var)\n",
    "            optimizer.zero_grad()\n",
    "            loss.backward()\n",
    "            optimizer.step()\n",
    "\n",
    "        cost.append(loss.data[0])\n",
    "        if (epoch + 1) % (num_epochs / 10) == 0:\n",
    "            print('Epoch = %d, loss = %.4f' % (epoch + 1, cost[-1]))\n",
    "\n",
    "def check_accuracy(model, loader):\n",
    "    num_correct = 0\n",
    "    num_samples = 0\n",
    "    model.eval()\n",
    "    for x, y in loader:\n",
    "        x_var = x.float()\n",
    "        scores = model(x_var)\n",
    "        _, preds = scores.max(1)\n",
    "        num_correct += (preds == y.long()).sum()\n",
    "        num_samples += preds.size(0)\n",
    "    acc = float(num_correct) / num_samples\n",
    "    print('Got %d / %d correct (%.2f)' % (num_correct, num_samples, 100 * acc))\n",
    "\n",
    "train(model, lossfn, optimizer, num_epochs=50)\n",
    "check_accuracy(model, loader_test)\n",
    "plt.plot(cost)\n",
    "plt.show()"
   ]
  },
  {
   "cell_type": "code",
   "execution_count": 91,
   "metadata": {},
   "outputs": [
    {
     "name": "stderr",
     "output_type": "stream",
     "text": [
      "C:\\ProgramData\\Anaconda3\\lib\\site-packages\\ipykernel_launcher.py:20: UserWarning: invalid index of a 0-dim tensor. This will be an error in PyTorch 0.5. Use tensor.item() to convert a 0-dim tensor to a Python number\n"
     ]
    },
    {
     "name": "stdout",
     "output_type": "stream",
     "text": [
      "Epoch = 5, loss = 1.4831\n",
      "Epoch = 10, loss = 1.4947\n",
      "Epoch = 15, loss = 1.4645\n",
      "Epoch = 20, loss = 1.4678\n",
      "Epoch = 25, loss = 1.4648\n",
      "Epoch = 30, loss = 1.4612\n",
      "Epoch = 35, loss = 1.4712\n",
      "Epoch = 40, loss = 1.4612\n",
      "Epoch = 45, loss = 1.4712\n",
      "Epoch = 50, loss = 1.4712\n",
      "Got 9808 / 10000 correct (98.08)\n"
     ]
    },
    {
     "data": {
      "image/png": "[encoded data removed]",
      "text/plain": [
       "<Figure size 432x288 with 1 Axes>"
      ]
     },
     "metadata": {},
     "output_type": "display_data"
    }
   ],
   "source": [
    "learning_rate = 0.001\n",
    "\n",
    "model = Model()\n",
    "lossfn = torch.nn.CrossEntropyLoss()\n",
    "optimizer = torch.optim.Adam(model.parameters(), lr=learning_rate)\n",
    "            \n",
    "cost = []\n",
    "def train(model, loss_fn, optimizer, num_epochs=1):\n",
    "    loss = None\n",
    "    for epoch in range(num_epochs):\n",
    "        for t, (x, y) in enumerate(loader_train):\n",
    "            x_var = x.float()\n",
    "            y_var = y.long()\n",
    "            y_hat = model(x_var)\n",
    "            loss = lossfn(y_hat, y_var)\n",
    "            optimizer.zero_grad()\n",
    "            loss.backward()\n",
    "            optimizer.step()\n",
    "\n",
    "        cost.append(loss.data[0])\n",
    "        if (epoch + 1) % (num_epochs / 10) == 0:\n",
    "            print('Epoch = %d, loss = %.4f' % (epoch + 1, cost[-1]))\n",
    "\n",
    "def check_accuracy(model, loader):\n",
    "    num_correct = 0\n",
    "    num_samples = 0\n",
    "    model.eval()\n",
    "    for x, y in loader:\n",
    "        x_var = x.float()\n",
    "        scores = model(x_var)\n",
    "        _, preds = scores.max(1)\n",
    "        num_correct += (preds == y.long()).sum()\n",
    "        num_samples += preds.size(0)\n",
    "    acc = float(num_correct) / num_samples\n",
    "    print('Got %d / %d correct (%.2f)' % (num_correct, num_samples, 100 * acc))\n",
    "\n",
    "train(model, lossfn, optimizer, num_epochs=50)\n",
    "check_accuracy(model, loader_test)\n",
    "plt.plot(cost)\n",
    "plt.show()"
   ]
  },
  {
   "cell_type": "code",
   "execution_count": null,
   "metadata": {},
   "outputs": [],
   "source": []
  }
 ],
 "metadata": {
  "kernelspec": {
   "display_name": "Python 3",
   "language": "python",
   "name": "python3"
  },
  "language_info": {
   "codemirror_mode": {
    "name": "ipython",
    "version": 3
   },
   "file_extension": ".py",
   "mimetype": "text/x-python",
   "name": "python",
   "nbconvert_exporter": "python",
   "pygments_lexer": "ipython3",
   "version": "3.6.4"
  }
 },
 "nbformat": 4,
 "nbformat_minor": 2
}
