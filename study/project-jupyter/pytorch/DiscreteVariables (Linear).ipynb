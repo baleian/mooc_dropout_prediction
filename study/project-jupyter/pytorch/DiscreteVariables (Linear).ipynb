{
 "cells": [
  {
   "cell_type": "code",
   "execution_count": 17,
   "metadata": {},
   "outputs": [],
   "source": [
    "import torch\n",
    "import numpy as np\n",
    "import matplotlib.pyplot as plt\n",
    "import torch.nn.functional as F"
   ]
  },
  {
   "cell_type": "code",
   "execution_count": 18,
   "metadata": {},
   "outputs": [],
   "source": [
    "APPLE = 0\n",
    "BANANA = 1\n",
    "COCONUT = 2\n",
    "\n",
    "look_up = [\n",
    "    [0.1, -0.4, 0.2, 0.5],\n",
    "    [0.4, 1.4, -1.0, 0.1],\n",
    "    [1.1, 0.9, 1.1, 0.5]\n",
    "]\n",
    "\n",
    "x_train = torch.Tensor([\n",
    "    [*look_up[APPLE], 1], \n",
    "    [*look_up[BANANA], 5], \n",
    "    [*look_up[COCONUT], 6]\n",
    "])\n",
    "\n",
    "y_train = torch.Tensor([\n",
    "    [*look_up[BANANA], 0], \n",
    "    [*look_up[COCONUT], 16], \n",
    "    [*look_up[COCONUT], 20]\n",
    "])"
   ]
  },
  {
   "cell_type": "code",
   "execution_count": 19,
   "metadata": {},
   "outputs": [],
   "source": [
    "input_size = 5\n",
    "output_size = 5\n",
    "num_steps = 20000\n",
    "learning_rate = 0.01"
   ]
  },
  {
   "cell_type": "code",
   "execution_count": 20,
   "metadata": {},
   "outputs": [],
   "source": [
    "class Model(torch.nn.Module):\n",
    "    def __init__(self):\n",
    "        super(Model, self).__init__()\n",
    "        self.layer1 = torch.nn.Linear(input_size, 4)\n",
    "        self.layer2 = torch.nn.Linear(4, 3)\n",
    "        self.layer3 = torch.nn.Linear(3, output_size)\n",
    "        \n",
    "    def forward(self, x):\n",
    "        s1 = F.sigmoid(self.layer1(x))\n",
    "        s2 = F.sigmoid(self.layer2(s1))\n",
    "        y_hat = self.layer3(s2)\n",
    "        return y_hat"
   ]
  },
  {
   "cell_type": "code",
   "execution_count": 21,
   "metadata": {},
   "outputs": [],
   "source": [
    "model = Model()\n",
    "criterion = torch.nn.MSELoss()\n",
    "optimizer = torch.optim.Adam(model.parameters(), lr=learning_rate)\n",
    "\n",
    "loss_history = []\n",
    "for step in range(num_steps):\n",
    "    y_hat = model(x_train)\n",
    "    loss = criterion(y_hat, y_train)\n",
    "    optimizer.zero_grad()\n",
    "    loss.backward()\n",
    "    optimizer.step()\n",
    "    loss_history.append(loss.data.numpy())"
   ]
  },
  {
   "cell_type": "code",
   "execution_count": 22,
   "metadata": {},
   "outputs": [
    {
     "data": {
      "image/png": "[encoded data removed]",
      "text/plain": [
       "<Figure size 432x288 with 1 Axes>"
      ]
     },
     "metadata": {},
     "output_type": "display_data"
    }
   ],
   "source": [
    "plt.plot(loss_history, label=\"loss\")\n",
    "plt.legend()\n",
    "plt.show()"
   ]
  },
  {
   "cell_type": "code",
   "execution_count": 24,
   "metadata": {},
   "outputs": [
    {
     "name": "stdout",
     "output_type": "stream",
     "text": [
      "tensor([[ 0.1000, -0.4000,  0.2000,  0.5000,  3.0000],\n",
      "        [ 1.1000,  0.9000,  1.1000,  0.5000,  5.0000]])\n",
      "tensor([[  0.4008,   1.3995,  -0.9977,   0.1004,   0.0116],\n",
      "        [  1.1000,   0.9000,   1.1000,   0.5000,  19.9998]])\n"
     ]
    }
   ],
   "source": [
    "x_test = torch.Tensor([\n",
    "    [*look_up[APPLE], 3], \n",
    "    [*look_up[COCONUT], 5]]\n",
    ")\n",
    "\n",
    "predict = model(x_test)\n",
    "print(x_test)\n",
    "print(predict)"
   ]
  },
  {
   "cell_type": "code",
   "execution_count": null,
   "metadata": {},
   "outputs": [],
   "source": []
  }
 ],
 "metadata": {
  "kernelspec": {
   "display_name": "Python 3",
   "language": "python",
   "name": "python3"
  },
  "language_info": {
   "codemirror_mode": {
    "name": "ipython",
    "version": 3
   },
   "file_extension": ".py",
   "mimetype": "text/x-python",
   "name": "python",
   "nbconvert_exporter": "python",
   "pygments_lexer": "ipython3",
   "version": "3.6.4"
  }
 },
 "nbformat": 4,
 "nbformat_minor": 2
}
