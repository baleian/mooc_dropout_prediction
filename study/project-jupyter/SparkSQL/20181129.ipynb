{
 "cells": [
  {
   "cell_type": "code",
   "execution_count": 1,
   "metadata": {},
   "outputs": [],
   "source": [
    "from pyspark.sql import SparkSession\n",
    "from pyspark.sql.functions import *\n",
    "from pyspark.sql.types import *\n",
    "\n",
    "spark = SparkSession.builder.master(\"local[*]\").appName(\"SparkSQL_Review\").getOrCreate()"
   ]
  },
  {
   "cell_type": "code",
   "execution_count": 40,
   "metadata": {},
   "outputs": [
    {
     "name": "stdout",
     "output_type": "stream",
     "text": [
      "+--------+-----+------------------+\n",
      "|response|count|         avg_bytes|\n",
      "+--------+-----+------------------+\n",
      "|     200|27972|17230.604247104246|\n",
      "|     302|  355| 73.25352112676056|\n",
      "|     404|  221|               0.0|\n",
      "|     304| 2421|               0.0|\n",
      "+--------+-----+------------------+\n",
      "\n"
     ]
    }
   ],
   "source": [
    "schema =  StructType([\n",
    "    StructField(\"host\", StringType()),\n",
    "    StructField(\"logname\", StringType()),\n",
    "    StructField(\"time\", LongType()),\n",
    "    StructField(\"method\", StringType()),\n",
    "    StructField(\"url\", StringType()),\n",
    "    StructField(\"response\", StringType()),\n",
    "    StructField(\"bytes\", LongType()),\n",
    "    StructField(\"referer\", StringType()),\n",
    "    StructField(\"useragent\", StringType())\n",
    "])\n",
    "\n",
    "nasa_log = spark.read \\\n",
    "    .option(\"delimiter\", \"\\t\") \\\n",
    "    .option(\"header\", \"true\") \\\n",
    "    .schema(schema) \\\n",
    "    .csv(\"nasa_19950801.tsv\")\n",
    "\n",
    "df = nasa_log.groupBy(\"response\").agg(count(\"*\").alias(\"count\"), avg(\"bytes\").alias(\"avg_bytes\"))\n",
    "df.show()"
   ]
  },
  {
   "cell_type": "code",
   "execution_count": 68,
   "metadata": {},
   "outputs": [
    {
     "name": "stdout",
     "output_type": "stream",
     "text": [
      "+------------+------------+-----+------------------+\n",
      "|responsecode|responsedesc|count|         avg_bytes|\n",
      "+------------+------------+-----+------------------+\n",
      "|         1xx|    informal|    0|              null|\n",
      "|         2xx|     success|27972|17230.604247104246|\n",
      "|         3xx| redirection| 2776| 9.367795389048991|\n",
      "|         4xx|client error|  221|               0.0|\n",
      "|         5xx|server error|    0|              null|\n",
      "+------------+------------+-----+------------------+\n",
      "\n"
     ]
    }
   ],
   "source": [
    "http_response = spark.read \\\n",
    "    .option(\"delimiter\", \",\") \\\n",
    "    .option(\"header\", \"true\") \\\n",
    "    .csv(\"http_response.csv\")\n",
    "\n",
    "df = http_response.join(nasa_log, col(\"responsecode\") == regexp_replace(\"response\", \"\\d{2}$\", \"xx\"), \"left\") \\\n",
    "    .groupBy(\"responsecode\", \"responsedesc\").agg(count(\"response\").alias(\"count\"), avg(\"bytes\").alias(\"avg_bytes\")) \\\n",
    "    .select(\"responsecode\", \"responsedesc\", \"count\", \"avg_bytes\").orderBy(\"responsecode\")\n",
    "df.show()"
   ]
  },
  {
   "cell_type": "code",
   "execution_count": 64,
   "metadata": {},
   "outputs": [
    {
     "name": "stdout",
     "output_type": "stream",
     "text": [
      "+------------+------------+-----+------------------+--------------------+\n",
      "|responsecode|responsedesc|count|         avg_bytes|       avg_kilobytes|\n",
      "+------------+------------+-----+------------------+--------------------+\n",
      "|         1xx|    informal|    0|              null|                null|\n",
      "|         2xx|     success|27972|17230.604247104246|   16.82676196006274|\n",
      "|         3xx| redirection| 2776| 9.367795389048991|0.009148237684618156|\n",
      "|         4xx|client error|  221|               0.0|                 0.0|\n",
      "|         5xx|server error|    0|              null|                null|\n",
      "+------------+------------+-----+------------------+--------------------+\n",
      "\n"
     ]
    }
   ],
   "source": [
    "df = df.withColumn(\"avg_kilobytes\", col(\"avg_bytes\") / 1024)\n",
    "df.show()"
   ]
  },
  {
   "cell_type": "code",
   "execution_count": null,
   "metadata": {},
   "outputs": [],
   "source": []
  }
 ],
 "metadata": {
  "kernelspec": {
   "display_name": "Python 3",
   "language": "python",
   "name": "python3"
  },
  "language_info": {
   "codemirror_mode": {
    "name": "ipython",
    "version": 3
   },
   "file_extension": ".py",
   "mimetype": "text/x-python",
   "name": "python",
   "nbconvert_exporter": "python",
   "pygments_lexer": "ipython3",
   "version": "3.6.6"
  }
 },
 "nbformat": 4,
 "nbformat_minor": 2
}
