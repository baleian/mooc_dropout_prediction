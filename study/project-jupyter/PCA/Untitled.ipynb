{
 "cells": [
  {
   "cell_type": "code",
   "execution_count": 1,
   "metadata": {},
   "outputs": [],
   "source": [
    "from pyspark.sql import SparkSession\n",
    "spark = SparkSession.builder.master(\"local[*]\").appName(\"PCA\").getOrCreate()"
   ]
  },
  {
   "cell_type": "code",
   "execution_count": 9,
   "metadata": {},
   "outputs": [
    {
     "name": "stdout",
     "output_type": "stream",
     "text": [
      "+---------+--------+---------+--------+-----------+\n",
      "|sp_length|sp_width|pt_length|pt_width|    species|\n",
      "+---------+--------+---------+--------+-----------+\n",
      "|      5.1|     3.5|      1.4|     0.2|Iris-setosa|\n",
      "|      4.9|     3.0|      1.4|     0.2|Iris-setosa|\n",
      "|      4.7|     3.2|      1.3|     0.2|Iris-setosa|\n",
      "|      4.6|     3.1|      1.5|     0.2|Iris-setosa|\n",
      "|      5.0|     3.6|      1.4|     0.2|Iris-setosa|\n",
      "|      5.4|     3.9|      1.7|     0.4|Iris-setosa|\n",
      "|      4.6|     3.4|      1.4|     0.3|Iris-setosa|\n",
      "|      5.0|     3.4|      1.5|     0.2|Iris-setosa|\n",
      "|      4.4|     2.9|      1.4|     0.2|Iris-setosa|\n",
      "|      4.9|     3.1|      1.5|     0.1|Iris-setosa|\n",
      "|      5.4|     3.7|      1.5|     0.2|Iris-setosa|\n",
      "|      4.8|     3.4|      1.6|     0.2|Iris-setosa|\n",
      "|      4.8|     3.0|      1.4|     0.1|Iris-setosa|\n",
      "|      4.3|     3.0|      1.1|     0.1|Iris-setosa|\n",
      "|      5.8|     4.0|      1.2|     0.2|Iris-setosa|\n",
      "|      5.7|     4.4|      1.5|     0.4|Iris-setosa|\n",
      "|      5.4|     3.9|      1.3|     0.4|Iris-setosa|\n",
      "|      5.1|     3.5|      1.4|     0.3|Iris-setosa|\n",
      "|      5.7|     3.8|      1.7|     0.3|Iris-setosa|\n",
      "|      5.1|     3.8|      1.5|     0.3|Iris-setosa|\n",
      "+---------+--------+---------+--------+-----------+\n",
      "only showing top 20 rows\n",
      "\n"
     ]
    }
   ],
   "source": [
    "iris = spark.read.options(delimiter=\",\", header=\"true\", inferSchema=\"true\").csv(\"iris.csv\")\n",
    "iris.show()"
   ]
  },
  {
   "cell_type": "code",
   "execution_count": 10,
   "metadata": {},
   "outputs": [
    {
     "name": "stdout",
     "output_type": "stream",
     "text": [
      "+---------+--------+---------+--------+-----------+-----------------+\n",
      "|sp_length|sp_width|pt_length|pt_width|    species|         features|\n",
      "+---------+--------+---------+--------+-----------+-----------------+\n",
      "|      5.1|     3.5|      1.4|     0.2|Iris-setosa|[5.1,3.5,1.4,0.2]|\n",
      "|      4.9|     3.0|      1.4|     0.2|Iris-setosa|[4.9,3.0,1.4,0.2]|\n",
      "|      4.7|     3.2|      1.3|     0.2|Iris-setosa|[4.7,3.2,1.3,0.2]|\n",
      "|      4.6|     3.1|      1.5|     0.2|Iris-setosa|[4.6,3.1,1.5,0.2]|\n",
      "|      5.0|     3.6|      1.4|     0.2|Iris-setosa|[5.0,3.6,1.4,0.2]|\n",
      "|      5.4|     3.9|      1.7|     0.4|Iris-setosa|[5.4,3.9,1.7,0.4]|\n",
      "|      4.6|     3.4|      1.4|     0.3|Iris-setosa|[4.6,3.4,1.4,0.3]|\n",
      "|      5.0|     3.4|      1.5|     0.2|Iris-setosa|[5.0,3.4,1.5,0.2]|\n",
      "|      4.4|     2.9|      1.4|     0.2|Iris-setosa|[4.4,2.9,1.4,0.2]|\n",
      "|      4.9|     3.1|      1.5|     0.1|Iris-setosa|[4.9,3.1,1.5,0.1]|\n",
      "|      5.4|     3.7|      1.5|     0.2|Iris-setosa|[5.4,3.7,1.5,0.2]|\n",
      "|      4.8|     3.4|      1.6|     0.2|Iris-setosa|[4.8,3.4,1.6,0.2]|\n",
      "|      4.8|     3.0|      1.4|     0.1|Iris-setosa|[4.8,3.0,1.4,0.1]|\n",
      "|      4.3|     3.0|      1.1|     0.1|Iris-setosa|[4.3,3.0,1.1,0.1]|\n",
      "|      5.8|     4.0|      1.2|     0.2|Iris-setosa|[5.8,4.0,1.2,0.2]|\n",
      "|      5.7|     4.4|      1.5|     0.4|Iris-setosa|[5.7,4.4,1.5,0.4]|\n",
      "|      5.4|     3.9|      1.3|     0.4|Iris-setosa|[5.4,3.9,1.3,0.4]|\n",
      "|      5.1|     3.5|      1.4|     0.3|Iris-setosa|[5.1,3.5,1.4,0.3]|\n",
      "|      5.7|     3.8|      1.7|     0.3|Iris-setosa|[5.7,3.8,1.7,0.3]|\n",
      "|      5.1|     3.8|      1.5|     0.3|Iris-setosa|[5.1,3.8,1.5,0.3]|\n",
      "+---------+--------+---------+--------+-----------+-----------------+\n",
      "only showing top 20 rows\n",
      "\n"
     ]
    }
   ],
   "source": [
    "from pyspark.ml.feature import VectorAssembler\n",
    "\n",
    "assembler = VectorAssembler(inputCols=[\"sp_length\", \"sp_width\", \"pt_length\", \"pt_width\"], outputCol=\"features\")\n",
    "data = assembler.transform(iris)\n",
    "data.show()"
   ]
  },
  {
   "cell_type": "code",
   "execution_count": 11,
   "metadata": {},
   "outputs": [
    {
     "name": "stdout",
     "output_type": "stream",
     "text": [
      "+-----------------+----------------------------------------+-----------+\n",
      "|features         |pcaFeatures                             |species    |\n",
      "+-----------------+----------------------------------------+-----------+\n",
      "|[5.1,3.5,1.4,0.2]|[-2.827135972679027,-5.641331045573321] |Iris-setosa|\n",
      "|[4.9,3.0,1.4,0.2]|[-2.7959524821488437,-5.145166883252896]|Iris-setosa|\n",
      "|[4.7,3.2,1.3,0.2]|[-2.6215235581650584,-5.177378121203909]|Iris-setosa|\n",
      "|[4.6,3.1,1.5,0.2]|[-2.7649059004742402,-5.003599415056946]|Iris-setosa|\n",
      "|[5.0,3.6,1.4,0.2]|[-2.7827501159516603,-5.648648294377395]|Iris-setosa|\n",
      "|[5.4,3.9,1.7,0.4]|[-3.231445736773378,-6.062506444034077] |Iris-setosa|\n",
      "|[4.6,3.4,1.4,0.3]|[-2.690452415602345,-5.232619219784267] |Iris-setosa|\n",
      "|[5.0,3.4,1.5,0.2]|[-2.8848611044591563,-5.485129079769225]|Iris-setosa|\n",
      "|[4.4,2.9,1.4,0.2]|[-2.6233845324473406,-4.743925704477345]|Iris-setosa|\n",
      "|[4.9,3.1,1.5,0.1]|[-2.8374984110638537,-5.208032027056187]|Iris-setosa|\n",
      "|[5.4,3.7,1.5,0.2]|[-3.004816308444072,-5.966658744481503] |Iris-setosa|\n",
      "|[4.8,3.4,1.6,0.2]|[-2.8982003795119193,-5.3362443627692]  |Iris-setosa|\n",
      "|[4.8,3.0,1.4,0.1]|[-2.723909121785877,-5.086983541937818] |Iris-setosa|\n",
      "|[4.3,3.0,1.1,0.1]|[-2.286142651507994,-4.811443821323513] |Iris-setosa|\n",
      "|[5.8,4.0,1.2,0.2]|[-2.867799880841829,-6.500918630222375] |Iris-setosa|\n",
      "|[5.7,4.4,1.5,0.4]|[-3.1274737739836005,-6.659478075368811]|Iris-setosa|\n",
      "|[5.4,3.9,1.3,0.4]|[-2.888816894657167,-6.132813405405535] |Iris-setosa|\n",
      "|[5.1,3.5,1.4,0.3]|[-2.863020365303848,-5.633860398559819] |Iris-setosa|\n",
      "|[5.7,3.8,1.7,0.3]|[-3.312265136352212,-6.193967818900664] |Iris-setosa|\n",
      "|[5.1,3.8,1.5,0.3]|[-2.923996908865237,-5.835197369614914] |Iris-setosa|\n",
      "+-----------------+----------------------------------------+-----------+\n",
      "only showing top 20 rows\n",
      "\n"
     ]
    }
   ],
   "source": [
    "from pyspark.ml.feature import PCA\n",
    "\n",
    "pca = PCA(k=2, inputCol=\"features\", outputCol=\"pcaFeatures\")\n",
    "model = pca.fit(data)\n",
    "\n",
    "result = model.transform(data).select(\"features\", \"pcaFeatures\", \"species\")\n",
    "result.show(truncate=False)"
   ]
  },
  {
   "cell_type": "code",
   "execution_count": 14,
   "metadata": {},
   "outputs": [
    {
     "name": "stdout",
     "output_type": "stream",
     "text": [
      "+---------------+-----+-----+\n",
      "|        species|label|count|\n",
      "+---------------+-----+-----+\n",
      "|    Iris-setosa|  0.0|   50|\n",
      "| Iris-virginica|  2.0|   50|\n",
      "|Iris-versicolor|  1.0|   50|\n",
      "+---------------+-----+-----+\n",
      "\n"
     ]
    }
   ],
   "source": [
    "from pyspark.ml.feature import StringIndexer\n",
    "\n",
    "indexer = StringIndexer(inputCol=\"species\", outputCol=\"label\")\n",
    "indexed_result = indexer.fit(result).transform(result)\n",
    "indexed_result.groupBy(\"species\", \"label\").count().show()"
   ]
  },
  {
   "cell_type": "code",
   "execution_count": 15,
   "metadata": {},
   "outputs": [
    {
     "ename": "TypeError",
     "evalue": "scatter() got multiple values for argument 'c'",
     "output_type": "error",
     "traceback": [
      "\u001b[1;31m---------------------------------------------------------------------------\u001b[0m",
      "\u001b[1;31mTypeError\u001b[0m                                 Traceback (most recent call last)",
      "\u001b[1;32m<ipython-input-15-b221e1b0c702>\u001b[0m in \u001b[0;36m<module>\u001b[1;34m\u001b[0m\n\u001b[0;32m      7\u001b[0m \u001b[0mcolors\u001b[0m \u001b[1;33m=\u001b[0m \u001b[1;33m[\u001b[0m\u001b[0mitem\u001b[0m\u001b[1;33m[\u001b[0m\u001b[1;36m1\u001b[0m\u001b[1;33m]\u001b[0m \u001b[1;32mfor\u001b[0m \u001b[0mitem\u001b[0m \u001b[1;32min\u001b[0m \u001b[0mcollected\u001b[0m\u001b[1;33m]\u001b[0m\u001b[1;33m\u001b[0m\u001b[0m\n\u001b[0;32m      8\u001b[0m \u001b[1;33m\u001b[0m\u001b[0m\n\u001b[1;32m----> 9\u001b[1;33m \u001b[0mplt\u001b[0m\u001b[1;33m.\u001b[0m\u001b[0mscatter\u001b[0m\u001b[1;33m(\u001b[0m\u001b[1;33m*\u001b[0m\u001b[0mzip\u001b[0m\u001b[1;33m(\u001b[0m\u001b[1;33m*\u001b[0m\u001b[0mdots\u001b[0m\u001b[1;33m)\u001b[0m\u001b[1;33m,\u001b[0m \u001b[0mc\u001b[0m\u001b[1;33m=\u001b[0m\u001b[0mcolors\u001b[0m\u001b[1;33m)\u001b[0m\u001b[1;33m\u001b[0m\u001b[0m\n\u001b[0m\u001b[0;32m     10\u001b[0m \u001b[0mplt\u001b[0m\u001b[1;33m.\u001b[0m\u001b[0mshow\u001b[0m\u001b[1;33m(\u001b[0m\u001b[1;33m)\u001b[0m\u001b[1;33m\u001b[0m\u001b[0m\n",
      "\u001b[1;31mTypeError\u001b[0m: scatter() got multiple values for argument 'c'"
     ]
    }
   ],
   "source": [
    "%matplotlib notebook\n",
    "import matplotlib.pyplot as plt\n",
    "\n",
    "collected = indexed_result.select(\"pcaFeatures\", \"label\").collect()\n",
    "\n",
    "dots = [item[0] for item in collected]\n",
    "colors = [item[1] for item in collected]\n",
    "\n",
    "plt.scatter(*zip(*dots), c=colors)\n",
    "plt.show()"
   ]
  },
  {
   "cell_type": "code",
   "execution_count": 21,
   "metadata": {},
   "outputs": [
    {
     "name": "stdout",
     "output_type": "stream",
     "text": [
      "48 / 50\n"
     ]
    }
   ],
   "source": [
    "from pyspark.ml.classification import LogisticRegression\n",
    "\n",
    "seed = 20\n",
    "\n",
    "train_df, test_df = indexed_result.select(\"pcaFeatures\", \"label\").toDF(\"features\", \"label\").randomSplit([0.7, 0.3], seed=seed)\n",
    "lr = LogisticRegression()\n",
    "lr_model = lr.fit(train_df)\n",
    "prediction = lr_model.transform(test_df)\n",
    "result = prediction.collect()\n",
    "accuracy = [r.prediction == r.label for r in result]\n",
    "\n",
    "print(sum(accuracy), \"/\", len(accuracy))"
   ]
  },
  {
   "cell_type": "code",
   "execution_count": null,
   "metadata": {},
   "outputs": [],
   "source": []
  }
 ],
 "metadata": {
  "kernelspec": {
   "display_name": "Python 3",
   "language": "python",
   "name": "python3"
  },
  "language_info": {
   "codemirror_mode": {
    "name": "ipython",
    "version": 3
   },
   "file_extension": ".py",
   "mimetype": "text/x-python",
   "name": "python",
   "nbconvert_exporter": "python",
   "pygments_lexer": "ipython3",
   "version": "3.6.6"
  }
 },
 "nbformat": 4,
 "nbformat_minor": 2
}
