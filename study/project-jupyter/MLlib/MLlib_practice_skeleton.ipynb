{
 "cells": [
  {
   "cell_type": "code",
   "execution_count": 1,
   "metadata": {},
   "outputs": [],
   "source": [
    "from pyspark.sql import SparkSession\n",
    "# set conf and create training data frame\n",
    "spark = SparkSession.builder.master('local[*]').appName('MLlib_tutorial').getOrCreate()\n",
    "\n",
    "training_df = spark.createDataFrame([\n",
    "    (0, \"a b c d e spark\", 1.0),\n",
    "    (1, \"b d\", 0.0),\n",
    "    (2, \"spark f g h\", 1.0),\n",
    "    (3, \"hadoop mapreduce\", 0.0),\n",
    "    (4, \"b spark who\", 1.0),\n",
    "    (5, \"g d a y\", 0.0),\n",
    "    (6, \"spark fly\", 1.0),\n",
    "    (7, \"was mapreduce\", 0.0),\n",
    "    (8, \"e spark program\", 1.0),\n",
    "    (9, \"a e c l\", 0.0),\n",
    "    (10, \"spark compile\", 1.0),\n",
    "    (11, \"hadoop software\", 0.0),\n",
    "], [\"id\", \"text\", \"label\"])"
   ]
  },
  {
   "cell_type": "code",
   "execution_count": 2,
   "metadata": {},
   "outputs": [],
   "source": [
    "# Create transformations\n",
    "from pyspark.ml.feature import HashingTF, Tokenizer\n",
    "# Create Tokenizer, Hashing TF instances. These instances are transformers\n",
    "transformer_tokenizer = Tokenizer(inputCol=\"text\", outputCol=\"words\")\n",
    "transformer_hashingTF = HashingTF(inputCol=transformer_tokenizer.getOutputCol(), outputCol=\"features\")"
   ]
  },
  {
   "cell_type": "code",
   "execution_count": 3,
   "metadata": {},
   "outputs": [
    {
     "name": "stdout",
     "output_type": "stream",
     "text": [
      "LogisticRegression parameters:\n",
      "aggregationDepth: suggested depth for treeAggregate (>= 2). (default: 2)\n",
      "elasticNetParam: the ElasticNet mixing parameter, in range [0, 1]. For alpha = 0, the penalty is an L2 penalty. For alpha = 1, it is an L1 penalty. (default: 0.0)\n",
      "family: The name of family which is a description of the label distribution to be used in the model. Supported options: auto, binomial, multinomial (default: auto)\n",
      "featuresCol: features column name. (default: features)\n",
      "fitIntercept: whether to fit an intercept term. (default: True)\n",
      "labelCol: label column name. (default: label)\n",
      "lowerBoundsOnCoefficients: The lower bounds on coefficients if fitting under bound constrained optimization. The bound matrix must be compatible with the shape (1, number of features) for binomial regression, or (number of classes, number of features) for multinomial regression. (undefined)\n",
      "lowerBoundsOnIntercepts: The lower bounds on intercepts if fitting under bound constrained optimization. The bounds vector size must beequal with 1 for binomial regression, or the number oflasses for multinomial regression. (undefined)\n",
      "maxIter: max number of iterations (>= 0). (default: 100, current: 10)\n",
      "predictionCol: prediction column name. (default: prediction)\n",
      "probabilityCol: Column name for predicted class conditional probabilities. Note: Not all models output well-calibrated probability estimates! These probabilities should be treated as confidences, not precise probabilities. (default: probability)\n",
      "rawPredictionCol: raw prediction (a.k.a. confidence) column name. (default: rawPrediction)\n",
      "regParam: regularization parameter (>= 0). (default: 0.0, current: 0.01)\n",
      "standardization: whether to standardize the training features before fitting the model. (default: True)\n",
      "threshold: Threshold in binary classification prediction, in range [0, 1]. If threshold and thresholds are both set, they must match.e.g. if threshold is p, then thresholds must be equal to [1-p, p]. (default: 0.5)\n",
      "thresholds: Thresholds in multi-class classification to adjust the probability of predicting each class. Array must have length equal to the number of classes, with values > 0, excepting that at most one value may be 0. The class with largest value p/t is predicted, where p is the original probability of that class and t is the class's threshold. (undefined)\n",
      "tol: the convergence tolerance for iterative algorithms (>= 0). (default: 1e-06)\n",
      "upperBoundsOnCoefficients: The upper bounds on coefficients if fitting under bound constrained optimization. The bound matrix must be compatible with the shape (1, number of features) for binomial regression, or (number of classes, number of features) for multinomial regression. (undefined)\n",
      "upperBoundsOnIntercepts: The upper bounds on intercepts if fitting under bound constrained optimization. The bound vector size must be equal with 1 for binomial regression, or the number of classes for multinomial regression. (undefined)\n",
      "weightCol: weight column name. If this is not set or empty, we treat all instance weights as 1.0. (undefined)\n",
      "\n"
     ]
    }
   ],
   "source": [
    "# Create estimator, lr\n",
    "from pyspark.ml.classification import LogisticRegression\n",
    "\n",
    "# Create a LogisticRegression instance. This instance is an estimator\n",
    "estimator_lr = LogisticRegression(maxIter=10, regParam=0.01)\n",
    "\n",
    "# Print out the parameters, documentation, and any default values\n",
    "print(\"LogisticRegression parameters:\\n{}\\n\".format(estimator_lr.explainParams()))"
   ]
  },
  {
   "cell_type": "code",
   "execution_count": 4,
   "metadata": {},
   "outputs": [],
   "source": [
    "# Create a pipeline\n",
    "from pyspark.ml import Pipeline\n",
    "\n",
    "# Configure an ML pipeline, which consists of three stages:\n",
    "#   transformer_tokenizer -> transformer_hashingTF, estimator_lr\n",
    "pipeline = Pipeline(stages=[\n",
    "    transformer_tokenizer, \n",
    "    transformer_hashingTF,\n",
    "    estimator_lr\n",
    "])"
   ]
  },
  {
   "cell_type": "code",
   "execution_count": 5,
   "metadata": {},
   "outputs": [],
   "source": [
    "# Create a training model!\n",
    "# Specify parameters using Python dictionary as a paramMap\n",
    "paramMap = {estimator_lr.probabilityCol: \"myProbability\"}\n",
    "\n",
    "# Fit the pipeline to training documents, name of probability column is specified as \"myProbability\"\n",
    "model = pipeline.fit(training_df, paramMap)"
   ]
  },
  {
   "cell_type": "code",
   "execution_count": 6,
   "metadata": {},
   "outputs": [
    {
     "name": "stdout",
     "output_type": "stream",
     "text": [
      "+---+------------------+--------------------+--------------------+--------------------+--------------------+----------+\n",
      "| id|              text|               words|            features|       rawPrediction|       myProbability|prediction|\n",
      "+---+------------------+--------------------+--------------------+--------------------+--------------------+----------+\n",
      "|  4|       spark i j k|    [spark, i, j, k]|(262144,[20197,24...|[-1.8577528108141...|[0.13496519522401...|       1.0|\n",
      "|  5|             l m n|           [l, m, n]|(262144,[18910,10...|[5.50096856013554...|[0.99593378652678...|       0.0|\n",
      "|  6|spark hadoop spark|[spark, hadoop, s...|(262144,[155117,2...|[-4.7770067510016...|[0.00835084407237...|       1.0|\n",
      "|  7|     apache hadoop|    [apache, hadoop]|(262144,[66695,15...|[3.31647681498440...|[0.96498975713601...|       0.0|\n",
      "|  8|      spakry spyks|     [spakry, spyks]|(262144,[37816,16...|[2.18898897217885...|[0.89925634997582...|       0.0|\n",
      "|  9|            sparky|            [sparky]|(262144,[184638],...|[2.18898897217885...|[0.89925634997582...|       0.0|\n",
      "| 10|             kpark|             [kpark]|(262144,[153155],...|[2.18898897217885...|[0.89925634997582...|       0.0|\n",
      "+---+------------------+--------------------+--------------------+--------------------+--------------------+----------+\n",
      "\n"
     ]
    }
   ],
   "source": [
    "# Test\n",
    "test_df = spark.createDataFrame([\n",
    "    (4, \"spark i j k\"),\n",
    "    (5, \"l m n\"),\n",
    "    (6, \"spark hadoop spark\"),\n",
    "    (7, \"apache hadoop\"),\n",
    "    (8, \"spakry spyks\"),\n",
    "    (9, \"sparky\"),\n",
    "    (10, \"kpark\")\n",
    "], [\"id\", \"text\"])\n",
    "\n",
    "prediction_df = model.transform(test_df)\n",
    "prediction_df.show()"
   ]
  },
  {
   "cell_type": "code",
   "execution_count": 8,
   "metadata": {},
   "outputs": [],
   "source": [
    "# Parameter Tuning\n",
    "from pyspark.ml.tuning import ParamGridBuilder\n",
    "\n",
    "paramGrid = ParamGridBuilder() \\\n",
    "    .addGrid(transformer_hashingTF.numFeatures, [10, 100, 1000]) \\\n",
    "    .addGrid(estimator_lr.regParam, [0.1, 0.01]) \\\n",
    "    .build()\n",
    "\n",
    "from pyspark.ml.evaluation import BinaryClassificationEvaluator\n",
    "from pyspark.ml.tuning import CrossValidator\n",
    "\n",
    "evaluator = BinaryClassificationEvaluator()\n",
    "crossval = CrossValidator(\n",
    "    estimator=pipeline,\n",
    "    estimatorParamMaps=paramGrid,\n",
    "    evaluator=evaluator,\n",
    "    numFolds=3\n",
    ")"
   ]
  },
  {
   "cell_type": "code",
   "execution_count": 9,
   "metadata": {},
   "outputs": [
    {
     "name": "stdout",
     "output_type": "stream",
     "text": [
      "+---+------------------+--------------------+----------+\n",
      "| id|              text|         probability|prediction|\n",
      "+---+------------------+--------------------+----------+\n",
      "|  4|       spark i j k|[0.25806842225846...|       1.0|\n",
      "|  5|             l m n|[0.91855974126539...|       0.0|\n",
      "|  6|spark hadoop spark|[0.08685724267919...|       1.0|\n",
      "|  7|     apache hadoop|[0.67660828566522...|       0.0|\n",
      "|  8|      spakry spyks|[0.73556216947131...|       0.0|\n",
      "|  9|            sparky|[0.82945689611722...|       0.0|\n",
      "| 10|             kpark|[0.73556216947131...|       0.0|\n",
      "+---+------------------+--------------------+----------+\n",
      "\n"
     ]
    }
   ],
   "source": [
    "# Run cross-validation, and choose the best set of parameters\n",
    "cvModel = crossval.fit(training_df)\n",
    "\n",
    "prediction_df = cvModel.transform(test_df)\n",
    "selected = prediction_df.select(\"id\", \"text\", \"probability\", \"prediction\")\n",
    "selected.show()"
   ]
  },
  {
   "cell_type": "code",
   "execution_count": 10,
   "metadata": {},
   "outputs": [
    {
     "name": "stdout",
     "output_type": "stream",
     "text": [
      "LogisticRegression_4f0aa273be598d872e05__aggregationDepth = 2\n",
      "LogisticRegression_4f0aa273be598d872e05__elasticNetParam = 0.0\n",
      "LogisticRegression_4f0aa273be598d872e05__family = auto\n",
      "LogisticRegression_4f0aa273be598d872e05__featuresCol = features\n",
      "LogisticRegression_4f0aa273be598d872e05__fitIntercept = True\n",
      "LogisticRegression_4f0aa273be598d872e05__labelCol = label\n",
      "LogisticRegression_4f0aa273be598d872e05__maxIter = 10\n",
      "LogisticRegression_4f0aa273be598d872e05__predictionCol = prediction\n",
      "LogisticRegression_4f0aa273be598d872e05__probabilityCol = probability\n",
      "LogisticRegression_4f0aa273be598d872e05__rawPredictionCol = rawPrediction\n",
      "LogisticRegression_4f0aa273be598d872e05__regParam = 0.1\n",
      "LogisticRegression_4f0aa273be598d872e05__standardization = True\n",
      "LogisticRegression_4f0aa273be598d872e05__threshold = 0.5\n",
      "LogisticRegression_4f0aa273be598d872e05__tol = 1e-06\n"
     ]
    }
   ],
   "source": [
    "bestPipeline = cvModel.bestModel\n",
    "bestLRModel = bestPipeline.stages[2]\n",
    "bestParams = bestLRModel.extractParamMap()\n",
    "\n",
    "for param in bestParams:\n",
    "    print(\"{} = {}\".format(param, bestParams[param]))"
   ]
  },
  {
   "cell_type": "code",
   "execution_count": null,
   "metadata": {},
   "outputs": [],
   "source": []
  }
 ],
 "metadata": {
  "kernelspec": {
   "display_name": "Python 3",
   "language": "python",
   "name": "python3"
  },
  "language_info": {
   "codemirror_mode": {
    "name": "ipython",
    "version": 3
   },
   "file_extension": ".py",
   "mimetype": "text/x-python",
   "name": "python",
   "nbconvert_exporter": "python",
   "pygments_lexer": "ipython3",
   "version": "3.6.6"
  }
 },
 "nbformat": 4,
 "nbformat_minor": 2
}
