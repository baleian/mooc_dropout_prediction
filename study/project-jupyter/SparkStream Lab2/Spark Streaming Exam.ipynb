{
 "cells": [
  {
   "cell_type": "code",
   "execution_count": 1,
   "metadata": {},
   "outputs": [],
   "source": [
    "import os\n",
    "pyspark_submit_args = \"--jars spark-streaming-kafka-0-8-assembly_2.11-2.1.0.jar\"\n",
    "pyspark_submit_args += \" --driver-memory 4g\"\n",
    "pyspark_submit_args += \" --executor-memory 4g\"\n",
    "pyspark_submit_args += \" pyspark-shell\"\n",
    "os.environ[\"PYSPARK_SUBMIT_ARGS\"] = pyspark_submit_args"
   ]
  },
  {
   "cell_type": "code",
   "execution_count": 2,
   "metadata": {},
   "outputs": [],
   "source": [
    "from pyspark.sql import SparkSession\n",
    "from pyspark.streaming import StreamingContext\n",
    "from pyspark.streaming.kafka import KafkaUtils, TopicAndPartition"
   ]
  },
  {
   "cell_type": "code",
   "execution_count": 3,
   "metadata": {},
   "outputs": [],
   "source": [
    "spark = SparkSession.builder.master(\"local[*]\").appName(\"createStream\").getOrCreate()\n",
    "sc = spark.sparkContext\n",
    "stc = StreamingContext(sc, 30)"
   ]
  },
  {
   "cell_type": "code",
   "execution_count": 4,
   "metadata": {},
   "outputs": [],
   "source": [
    "brokers, topic = \"localhost:9092\", \"test\"\n",
    "fromOffsets = {TopicAndPartition(topic, 0): int(0)}\n",
    "kvs = KafkaUtils.createDirectStream(\n",
    "    stc, [topic], {\"metadata.broker.list\": brokers}, \n",
    "    fromOffsets=fromOffsets\n",
    ")"
   ]
  },
  {
   "cell_type": "code",
   "execution_count": null,
   "metadata": {},
   "outputs": [],
   "source": [
    "wordCounts = (\n",
    "    kvs\n",
    "        .map(lambda x: x[1])\n",
    "        .flatMap(lambda line: line.split(\" \"))\n",
    "        .map(lambda word: (word, 1))\n",
    "        .reduceByKey(lambda x, y: x + y)\n",
    ")\n",
    "wordCounts.pprint()"
   ]
  },
  {
   "cell_type": "code",
   "execution_count": null,
   "metadata": {},
   "outputs": [
    {
     "name": "stdout",
     "output_type": "stream",
     "text": [
      "-------------------------------------------\n",
      "Time: 2018-12-14 10:30:30\n",
      "-------------------------------------------\n",
      "('spark', 10)\n",
      "('a', 4)\n",
      "('b', 3)\n",
      "('c', 3)\n",
      "('stream', 17)\n",
      "('strema', 1)\n",
      "('kafka', 19)\n",
      "\n",
      "-------------------------------------------\n",
      "Time: 2018-12-14 10:31:00\n",
      "-------------------------------------------\n",
      "('go', 4)\n",
      "('up', 1)\n",
      "('down', 3)\n",
      "\n",
      "-------------------------------------------\n",
      "Time: 2018-12-14 10:31:30\n",
      "-------------------------------------------\n",
      "('left', 2)\n",
      "('go', 3)\n",
      "('right', 2)\n",
      "\n",
      "-------------------------------------------\n",
      "Time: 2018-12-14 10:32:00\n",
      "-------------------------------------------\n",
      "\n"
     ]
    }
   ],
   "source": [
    "stc.start()\n",
    "stc.awaitTermination()"
   ]
  },
  {
   "cell_type": "code",
   "execution_count": null,
   "metadata": {},
   "outputs": [],
   "source": []
  }
 ],
 "metadata": {
  "kernelspec": {
   "display_name": "Python 3",
   "language": "python",
   "name": "python3"
  },
  "language_info": {
   "codemirror_mode": {
    "name": "ipython",
    "version": 3
   },
   "file_extension": ".py",
   "mimetype": "text/x-python",
   "name": "python",
   "nbconvert_exporter": "python",
   "pygments_lexer": "ipython3",
   "version": "3.6.4"
  },
  "widgets": {
   "application/vnd.jupyter.widget-state+json": {
    "state": {},
    "version_major": 2,
    "version_minor": 0
   }
  }
 },
 "nbformat": 4,
 "nbformat_minor": 2
}
